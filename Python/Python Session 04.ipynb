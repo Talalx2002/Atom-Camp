{
 "cells": [
  {
   "cell_type": "code",
   "execution_count": 1,
   "id": "715f222b",
   "metadata": {},
   "outputs": [
    {
     "name": "stdout",
     "output_type": "stream",
     "text": [
      "You can join this game\n"
     ]
    }
   ],
   "source": [
    "num = 13\n",
    "if num == 13:\n",
    "    print(\"You can join this game\")\n",
    "    "
   ]
  },
  {
   "cell_type": "markdown",
   "id": "35e3b6f2",
   "metadata": {},
   "source": [
    "while [enter the condition that the loop proceeds]:  \n",
    "[what is done in the loop]"
   ]
  },
  {
   "cell_type": "markdown",
   "id": "3fd2701f",
   "metadata": {},
   "source": [
    "A while loop evaluates the Condition.\n",
    "If the Condition on evaluates to True, the code inside the while loop is executed.\n",
    "Condition is evaluated again.\n",
    "The process con nues un l the condi on is False.\n",
    "When the condi on evaluates to False, the loop stops."
   ]
  },
  {
   "cell_type": "code",
   "execution_count": 6,
   "id": "6c090527",
   "metadata": {},
   "outputs": [],
   "source": [
    "num = 10\n",
    "while num > 10:\n",
    "    print(\"Infinite loop\")\n",
    "    num -= 1"
   ]
  },
  {
   "cell_type": "code",
   "execution_count": 7,
   "id": "05b8ef66",
   "metadata": {},
   "outputs": [
    {
     "name": "stdout",
     "output_type": "stream",
     "text": [
      "1\n",
      "2\n",
      "3\n",
      "4\n",
      "5\n"
     ]
    }
   ],
   "source": [
    "# Print numbers from 1 to 5\n",
    "count = 1\n",
    "while count <= 5:\n",
    "    print(count)\n",
    "    count += 1"
   ]
  },
  {
   "cell_type": "code",
   "execution_count": 8,
   "id": "b74a9f25",
   "metadata": {},
   "outputs": [
    {
     "name": "stdout",
     "output_type": "stream",
     "text": [
      "10\n",
      "9\n",
      "8\n",
      "7\n",
      "6\n",
      "5\n",
      "4\n",
      "3\n",
      "2\n",
      "1\n"
     ]
    }
   ],
   "source": [
    "# Counting down from 10 to 1\n",
    "count = 10\n",
    "while count>=1:\n",
    "    print(count)\n",
    "    count-=1"
   ]
  },
  {
   "cell_type": "code",
   "execution_count": 9,
   "id": "1ac81a03",
   "metadata": {},
   "outputs": [
    {
     "name": "stdout",
     "output_type": "stream",
     "text": [
      "1\n",
      "2\n",
      "3\n",
      "4\n",
      "5\n",
      "i is no longer less than 6\n"
     ]
    }
   ],
   "source": [
    "i = 1\n",
    "while i < 6:\n",
    "    print(i)\n",
    "    i +=1\n",
    "else:\n",
    "    print(\"i is no longer less than 6\")"
   ]
  },
  {
   "cell_type": "code",
   "execution_count": 10,
   "id": "41424d58",
   "metadata": {},
   "outputs": [
    {
     "name": "stdout",
     "output_type": "stream",
     "text": [
      "1\n",
      "2\n",
      "4\n",
      "5\n",
      "6\n"
     ]
    }
   ],
   "source": [
    "i = 0\n",
    "while i < 6:\n",
    "    i +=1\n",
    "    if i == 3:\n",
    "        continue # Skips the iteration\n",
    "    print(i)"
   ]
  },
  {
   "cell_type": "code",
   "execution_count": 11,
   "id": "5066470c",
   "metadata": {},
   "outputs": [
    {
     "name": "stdout",
     "output_type": "stream",
     "text": [
      "1\n",
      "2\n"
     ]
    }
   ],
   "source": [
    "i = 0\n",
    "while i < 6:\n",
    "    i +=1\n",
    "    if i == 3:\n",
    "        break # Breaks the iteration\n",
    "    print(i)"
   ]
  },
  {
   "cell_type": "code",
   "execution_count": 14,
   "id": "f13e3367",
   "metadata": {},
   "outputs": [
    {
     "name": "stdout",
     "output_type": "stream",
     "text": [
      "Value of i: 5\n"
     ]
    }
   ],
   "source": [
    "a = \"Farwa\"\n",
    "i = 0\n",
    "while i < len(a):\n",
    "    i +=1\n",
    "print(\"Value of i:\", i)\n"
   ]
  },
  {
   "cell_type": "code",
   "execution_count": 16,
   "id": "ac6bbedd",
   "metadata": {},
   "outputs": [
    {
     "name": "stdout",
     "output_type": "stream",
     "text": [
      "4\n",
      "3\n",
      "2\n",
      "1\n",
      "[]\n"
     ]
    }
   ],
   "source": [
    "a = [1,2,3,4]\n",
    "while a:\n",
    "    print(a.pop())\n",
    "print(a)"
   ]
  },
  {
   "cell_type": "code",
   "execution_count": 17,
   "id": "5c15cb60",
   "metadata": {},
   "outputs": [
    {
     "name": "stdout",
     "output_type": "stream",
     "text": [
      "Inside loop\n",
      "Inside loop\n",
      "Inside loop\n",
      "Inside else\n"
     ]
    }
   ],
   "source": [
    "counter = 0\n",
    "while counter < 3:\n",
    "    print(\"Inside loop\")\n",
    "    counter += 1\n",
    "else:\n",
    "    print(\"Inside else\")"
   ]
  },
  {
   "cell_type": "code",
   "execution_count": 19,
   "id": "12ebc799",
   "metadata": {},
   "outputs": [
    {
     "name": "stdout",
     "output_type": "stream",
     "text": [
      "0\n",
      "1\n",
      "2\n",
      "4\n",
      "5\n",
      "6\n",
      "7\n",
      "8\n",
      "9\n"
     ]
    }
   ],
   "source": [
    "for i in range(10):\n",
    "    if i == 3:\n",
    "        continue\n",
    "    print(i)"
   ]
  },
  {
   "cell_type": "code",
   "execution_count": 20,
   "id": "776461e1",
   "metadata": {},
   "outputs": [
    {
     "name": "stdout",
     "output_type": "stream",
     "text": [
      "1\n",
      "2\n",
      "3\n"
     ]
    }
   ],
   "source": [
    "i = 1\n",
    "while i < 10:\n",
    "    print(i)\n",
    "    if i == 3:\n",
    "        break\n",
    "    i +=1"
   ]
  },
  {
   "cell_type": "code",
   "execution_count": 22,
   "id": "1993e10a",
   "metadata": {},
   "outputs": [
    {
     "name": "stdout",
     "output_type": "stream",
     "text": [
      " You are not eligible\n",
      "Enter another age:74\n",
      " You are not eligible\n",
      "Enter another age:48\n",
      " You are not eligible\n",
      "Enter another age:59\n",
      " You are not eligible\n",
      "Enter another age:49\n",
      " You are not eligible\n",
      "Enter another age:6\n",
      "You are eligible\n"
     ]
    }
   ],
   "source": [
    "age = 20\n",
    "while age > 19:\n",
    "    print(\" You are not eligible\")\n",
    "    age = int(input(\"Enter another age:\"))\n",
    "print(\"You are eligible\")"
   ]
  },
  {
   "cell_type": "code",
   "execution_count": 23,
   "id": "c0cf85bb",
   "metadata": {},
   "outputs": [
    {
     "name": "stdout",
     "output_type": "stream",
     "text": [
      "H\n",
      "e\n",
      "l\n",
      "l\n",
      "o\n"
     ]
    }
   ],
   "source": [
    "my_string = \"Hello\"\n",
    "i = 0\n",
    "while i < len(my_string):\n",
    "    print(my_string[i])\n",
    "    i+=1"
   ]
  },
  {
   "cell_type": "code",
   "execution_count": 24,
   "id": "18dd369d",
   "metadata": {},
   "outputs": [
    {
     "name": "stdout",
     "output_type": "stream",
     "text": [
      "1\n",
      "2\n",
      "3\n",
      "4\n"
     ]
    }
   ],
   "source": [
    "my_list = [1,2,3,4]\n",
    "i = 0\n",
    "while i < len(my_list):\n",
    "    print(my_list[i])\n",
    "    i+=1"
   ]
  },
  {
   "cell_type": "code",
   "execution_count": 1,
   "id": "537cf9d0",
   "metadata": {},
   "outputs": [
    {
     "name": "stdout",
     "output_type": "stream",
     "text": [
      "1\n",
      "2\n",
      "3\n",
      "4\n"
     ]
    }
   ],
   "source": [
    "# Use tuple and result should be \n",
    "my_tuple=(1,2,3,4)\n",
    "i=0\n",
    "while i<len(my_tuple):\n",
    "    print(my_tuple[i])\n",
    "    i=i+1"
   ]
  },
  {
   "cell_type": "code",
   "execution_count": 2,
   "id": "81dbf1be",
   "metadata": {},
   "outputs": [
    {
     "name": "stdout",
     "output_type": "stream",
     "text": [
      "1\n",
      "2\n",
      "3\n"
     ]
    }
   ],
   "source": [
    "my_dict = {\"a\":1, \"b\":2, \"c\":3}\n",
    "keys = list(my_dict.keys())\n",
    "i = 0\n",
    "while i <len(my_dict):\n",
    "    print(my_dict[keys[i]])\n",
    "    i +=1"
   ]
  },
  {
   "cell_type": "markdown",
   "id": "a95b0a6f",
   "metadata": {},
   "source": [
    "A function is a block of code which only runs when executed\n",
    "you can pass your data, knwon as paramters, intro a function.\n",
    "A function can return data as a result"
   ]
  },
  {
   "cell_type": "code",
   "execution_count": null,
   "id": "01fdd8f7",
   "metadata": {},
   "outputs": [],
   "source": [
    "def function(parameter):\n",
    "    code to execute"
   ]
  },
  {
   "cell_type": "code",
   "execution_count": 10,
   "id": "0728b91c",
   "metadata": {},
   "outputs": [],
   "source": [
    "def greet():\n",
    "    print(\"Hello, name\")\n",
    "    print(\"How are you?\")\n",
    "    print(\"How is bootcamp going\")\n",
    "    print(\"How many months are left in this bootcamp\")\n",
    "    print(\"--------------\")\n"
   ]
  },
  {
   "cell_type": "code",
   "execution_count": 11,
   "id": "a1d9de10",
   "metadata": {},
   "outputs": [
    {
     "name": "stdout",
     "output_type": "stream",
     "text": [
      "Hello, name\n",
      "How are you?\n",
      "How is bootcamp going\n",
      "How many months are left in this bootcamp\n",
      "--------------\n"
     ]
    }
   ],
   "source": [
    "greet()   # Calling of function"
   ]
  },
  {
   "cell_type": "code",
   "execution_count": 12,
   "id": "d5a054e0",
   "metadata": {},
   "outputs": [],
   "source": [
    "def greet(name):\n",
    "    print(f\"Hello, {name}\")\n",
    "    print(\"How are you?\")\n",
    "    print(\"How is bootcamp going\")\n",
    "    print(\"How many months are left in this bootcamp\")\n",
    "    print(\"--------------\")"
   ]
  },
  {
   "cell_type": "code",
   "execution_count": 14,
   "id": "85fc9ae8",
   "metadata": {},
   "outputs": [
    {
     "name": "stdout",
     "output_type": "stream",
     "text": [
      "Hello, farwa\n",
      "How are you?\n",
      "How is bootcamp going\n",
      "How many months are left in this bootcamp\n",
      "--------------\n"
     ]
    }
   ],
   "source": [
    "greet(\"farwa\")"
   ]
  },
  {
   "cell_type": "code",
   "execution_count": 15,
   "id": "20ac7993",
   "metadata": {},
   "outputs": [
    {
     "name": "stdout",
     "output_type": "stream",
     "text": [
      "Hello, Faryal\n",
      "How are you?\n",
      "How is bootcamp going\n",
      "How many months are left in this bootcamp\n",
      "--------------\n"
     ]
    }
   ],
   "source": [
    "greet(\"Faryal\")"
   ]
  },
  {
   "cell_type": "code",
   "execution_count": 16,
   "id": "ffc2a5df",
   "metadata": {},
   "outputs": [
    {
     "name": "stdout",
     "output_type": "stream",
     "text": [
      "Hello, Muhammad Hilal\n",
      "How are you?\n",
      "How is bootcamp going\n",
      "How many months are left in this bootcamp\n",
      "--------------\n"
     ]
    }
   ],
   "source": [
    "greet(\"Muhammad Hilal\")"
   ]
  },
  {
   "cell_type": "code",
   "execution_count": 17,
   "id": "b4ef30bf",
   "metadata": {},
   "outputs": [],
   "source": [
    "def greet(first_name, second_name):\n",
    "    print(f\"Hello, {first_name} {second_name}\")\n",
    "    print(\"How are you?\")\n",
    "    print(\"How is bootcamp going\")\n",
    "    print(\"How many months are left in this bootcamp\")\n",
    "    print(\"--------------\")"
   ]
  },
  {
   "cell_type": "code",
   "execution_count": 18,
   "id": "86745d7c",
   "metadata": {},
   "outputs": [
    {
     "name": "stdout",
     "output_type": "stream",
     "text": [
      "Hello, Farwa Zahid\n",
      "How are you?\n",
      "How is bootcamp going\n",
      "How many months are left in this bootcamp\n",
      "--------------\n"
     ]
    }
   ],
   "source": [
    "greet(\"Farwa\", \"Zahid\")"
   ]
  },
  {
   "cell_type": "code",
   "execution_count": 19,
   "id": "2a010637",
   "metadata": {},
   "outputs": [
    {
     "ename": "TypeError",
     "evalue": "greet() missing 1 required positional argument: 'second_name'",
     "output_type": "error",
     "traceback": [
      "\u001b[1;31m---------------------------------------------------------------------------\u001b[0m",
      "\u001b[1;31mTypeError\u001b[0m                                 Traceback (most recent call last)",
      "Cell \u001b[1;32mIn[19], line 1\u001b[0m\n\u001b[1;32m----> 1\u001b[0m greet(\u001b[38;5;124m\"\u001b[39m\u001b[38;5;124mFarwa\u001b[39m\u001b[38;5;124m\"\u001b[39m, )\n",
      "\u001b[1;31mTypeError\u001b[0m: greet() missing 1 required positional argument: 'second_name'"
     ]
    }
   ],
   "source": [
    "greet(\"Farwa\", )"
   ]
  },
  {
   "cell_type": "code",
   "execution_count": 21,
   "id": "945d4fea",
   "metadata": {},
   "outputs": [],
   "source": [
    "def greet(first_name = \"Farwa\", second_name = \"Zahid\"):\n",
    "    print(f\"Hello, {first_name} {second_name}\")\n",
    "    print(\"How are you?\")\n",
    "    print(\"How is bootcamp going\")\n",
    "    print(\"How many months are left in this bootcamp\")\n",
    "    print(\"--------------\")"
   ]
  },
  {
   "cell_type": "code",
   "execution_count": 22,
   "id": "5f25c759",
   "metadata": {},
   "outputs": [
    {
     "name": "stdout",
     "output_type": "stream",
     "text": [
      "Hello, Farwa Zahid\n",
      "How are you?\n",
      "How is bootcamp going\n",
      "How many months are left in this bootcamp\n",
      "--------------\n"
     ]
    }
   ],
   "source": [
    "greet()"
   ]
  },
  {
   "cell_type": "code",
   "execution_count": 27,
   "id": "b19af30c",
   "metadata": {},
   "outputs": [],
   "source": [
    "def add_numbers(a,b):\n",
    "    return a + b\n"
   ]
  },
  {
   "cell_type": "code",
   "execution_count": 28,
   "id": "9b22ccea",
   "metadata": {},
   "outputs": [
    {
     "data": {
      "text/plain": [
       "31"
      ]
     },
     "execution_count": 28,
     "metadata": {},
     "output_type": "execute_result"
    }
   ],
   "source": [
    "add_numbers(3,28)"
   ]
  },
  {
   "cell_type": "code",
   "execution_count": null,
   "id": "5181d3a5",
   "metadata": {},
   "outputs": [],
   "source": [
    "# Make a function tp multiply values"
   ]
  },
  {
   "cell_type": "code",
   "execution_count": 32,
   "id": "29b49386",
   "metadata": {},
   "outputs": [],
   "source": [
    "def greet():\n",
    "    print(f\"Hello\")\n",
    "    print(\"How are you?\")\n",
    "    print(\"How is bootcamp going\")\n",
    "    print(\"How many months are left in this bootcamp\")\n",
    "    print(\"--------------\")"
   ]
  },
  {
   "cell_type": "code",
   "execution_count": 33,
   "id": "5f5cb913",
   "metadata": {},
   "outputs": [
    {
     "name": "stdout",
     "output_type": "stream",
     "text": [
      "Hello\n",
      "How are you?\n",
      "How is bootcamp going\n",
      "How many months are left in this bootcamp\n",
      "--------------\n"
     ]
    }
   ],
   "source": [
    "greet()"
   ]
  },
  {
   "cell_type": "code",
   "execution_count": 34,
   "id": "f150a6e7",
   "metadata": {},
   "outputs": [],
   "source": [
    "def even_odd(x):\n",
    "    if (x%2 == 0):\n",
    "        print(\"Even\")\n",
    "    else:\n",
    "        print(\"Odd\")"
   ]
  },
  {
   "cell_type": "code",
   "execution_count": 35,
   "id": "759c8baf",
   "metadata": {},
   "outputs": [
    {
     "name": "stdout",
     "output_type": "stream",
     "text": [
      "Odd\n"
     ]
    }
   ],
   "source": [
    "even_odd(439894789423)"
   ]
  },
  {
   "cell_type": "code",
   "execution_count": 42,
   "id": "f5344386",
   "metadata": {},
   "outputs": [],
   "source": [
    "def my_fun(x1= 0, y2=0):\n",
    "    print(\"X:\", x1)\n",
    "    print(\"Y:\", y2)\n",
    "    "
   ]
  },
  {
   "cell_type": "code",
   "execution_count": 43,
   "id": "2f808978",
   "metadata": {},
   "outputs": [
    {
     "name": "stdout",
     "output_type": "stream",
     "text": [
      "X: 8\n",
      "Y: 4\n"
     ]
    }
   ],
   "source": [
    "my_fun(y2=4,x1=8)"
   ]
  },
  {
   "cell_type": "code",
   "execution_count": 44,
   "id": "bf9f0549",
   "metadata": {},
   "outputs": [],
   "source": [
    "def student_info(name, age):\n",
    "    print(\"Hi, I am\", name)\n",
    "    print(\"My age is\", age)"
   ]
  },
  {
   "cell_type": "code",
   "execution_count": 46,
   "id": "24ab723c",
   "metadata": {},
   "outputs": [
    {
     "name": "stdout",
     "output_type": "stream",
     "text": [
      "Hi, I am Alia\n",
      "My age is 30\n"
     ]
    }
   ],
   "source": [
    "student_info(age = 30, name = \"Alia\")"
   ]
  },
  {
   "cell_type": "code",
   "execution_count": 48,
   "id": "e70e9d28",
   "metadata": {},
   "outputs": [],
   "source": [
    "def my_func1(name):\n",
    "    print(f\"Hello:{name}\")"
   ]
  },
  {
   "cell_type": "code",
   "execution_count": 50,
   "id": "e7b24a30",
   "metadata": {},
   "outputs": [
    {
     "name": "stdout",
     "output_type": "stream",
     "text": [
      "Hello:Qasim\n"
     ]
    }
   ],
   "source": [
    "my_func1(\"Qasim\")"
   ]
  },
  {
   "cell_type": "code",
   "execution_count": 51,
   "id": "e9a6275e",
   "metadata": {},
   "outputs": [],
   "source": [
    "## Lamba\n",
    "#Assign a lamba function to a variable and then caæl that varaible as a normal function\n",
    "Multiply = lambda x: x +1\n"
   ]
  },
  {
   "cell_type": "code",
   "execution_count": 52,
   "id": "fb61d275",
   "metadata": {},
   "outputs": [
    {
     "data": {
      "text/plain": [
       "3"
      ]
     },
     "execution_count": 52,
     "metadata": {},
     "output_type": "execute_result"
    }
   ],
   "source": [
    "Multiply(2)"
   ]
  },
  {
   "cell_type": "code",
   "execution_count": 53,
   "id": "154bbbc7",
   "metadata": {},
   "outputs": [],
   "source": [
    "add = lambda a,b :a+b"
   ]
  },
  {
   "cell_type": "code",
   "execution_count": 55,
   "id": "b60c8327",
   "metadata": {},
   "outputs": [
    {
     "data": {
      "text/plain": [
       "8"
      ]
     },
     "execution_count": 55,
     "metadata": {},
     "output_type": "execute_result"
    }
   ],
   "source": [
    "add(5,3)"
   ]
  },
  {
   "cell_type": "code",
   "execution_count": 58,
   "id": "1dfe0501",
   "metadata": {},
   "outputs": [],
   "source": [
    "greet = lambda name: print(\"Greetings:\", name)"
   ]
  },
  {
   "cell_type": "code",
   "execution_count": 59,
   "id": "1e8a687c",
   "metadata": {},
   "outputs": [
    {
     "name": "stdout",
     "output_type": "stream",
     "text": [
      "Greetings: Farwa\n"
     ]
    }
   ],
   "source": [
    "greet(\"Farwa\")"
   ]
  },
  {
   "cell_type": "code",
   "execution_count": 63,
   "id": "af75ce24",
   "metadata": {},
   "outputs": [
    {
     "data": {
      "text/plain": [
       "125"
      ]
     },
     "execution_count": 63,
     "metadata": {},
     "output_type": "execute_result"
    }
   ],
   "source": [
    "def cube(x):\n",
    "    value = x*x*x\n",
    "    return value\n",
    "    \n",
    "cube(5)"
   ]
  },
  {
   "cell_type": "code",
   "execution_count": 68,
   "id": "a49e1d8b",
   "metadata": {},
   "outputs": [
    {
     "data": {
      "text/plain": [
       "125"
      ]
     },
     "execution_count": 68,
     "metadata": {},
     "output_type": "execute_result"
    }
   ],
   "source": [
    "cube_value = lambda x:x*x*x\n",
    "\n",
    "cube_value(5)"
   ]
  },
  {
   "cell_type": "code",
   "execution_count": 69,
   "id": "6f61096a",
   "metadata": {},
   "outputs": [
    {
     "data": {
      "text/plain": [
       "125"
      ]
     },
     "execution_count": 69,
     "metadata": {},
     "output_type": "execute_result"
    }
   ],
   "source": [
    "(lambda x:x*x*x)(5)"
   ]
  },
  {
   "cell_type": "code",
   "execution_count": 70,
   "id": "bc6a5010",
   "metadata": {},
   "outputs": [],
   "source": [
    "def print_arg(*args):\n",
    "    for a in args:\n",
    "        print(a)"
   ]
  },
  {
   "cell_type": "code",
   "execution_count": 71,
   "id": "41975ddc",
   "metadata": {},
   "outputs": [
    {
     "name": "stdout",
     "output_type": "stream",
     "text": [
      "My\n",
      "name\n",
      "is\n",
      "Farwa\n"
     ]
    }
   ],
   "source": [
    "print_arg(\"My\", \"name\", \"is\", \"Farwa\")"
   ]
  },
  {
   "cell_type": "code",
   "execution_count": 78,
   "id": "971b4fe7",
   "metadata": {},
   "outputs": [],
   "source": [
    "def my_kwarg(**Kid):\n",
    "    print(\"His last name\" + Kid[iname])\n",
    "    "
   ]
  },
  {
   "cell_type": "code",
   "execution_count": 87,
   "id": "8e94fc71",
   "metadata": {},
   "outputs": [
    {
     "name": "stdout",
     "output_type": "stream",
     "text": [
      "His last namekhan\n"
     ]
    }
   ],
   "source": [
    "def my_kwarg(**Kid):\n",
    "    print(\"His last name\"+Kid[\"iname\"])\n",
    "    \n",
    "my_kwarg(fname=\"Qasim\",iname=\"khan\")"
   ]
  },
  {
   "cell_type": "code",
   "execution_count": null,
   "id": "3815637b",
   "metadata": {},
   "outputs": [],
   "source": []
  },
  {
   "cell_type": "code",
   "execution_count": 84,
   "id": "cd5dfab6",
   "metadata": {},
   "outputs": [],
   "source": [
    "def my_kwarg(country = \"Pakistan\"):\n",
    "    print(\"I am from \" + country)\n"
   ]
  },
  {
   "cell_type": "code",
   "execution_count": 86,
   "id": "d6544341",
   "metadata": {},
   "outputs": [
    {
     "name": "stdout",
     "output_type": "stream",
     "text": [
      "I am from India\n"
     ]
    }
   ],
   "source": [
    "my_kwarg(\"India\")"
   ]
  },
  {
   "cell_type": "code",
   "execution_count": null,
   "id": "404c66d3",
   "metadata": {},
   "outputs": [],
   "source": []
  }
 ],
 "metadata": {
  "kernelspec": {
   "display_name": "Python 3 (ipykernel)",
   "language": "python",
   "name": "python3"
  },
  "language_info": {
   "codemirror_mode": {
    "name": "ipython",
    "version": 3
   },
   "file_extension": ".py",
   "mimetype": "text/x-python",
   "name": "python",
   "nbconvert_exporter": "python",
   "pygments_lexer": "ipython3",
   "version": "3.11.5"
  }
 },
 "nbformat": 4,
 "nbformat_minor": 5
}
