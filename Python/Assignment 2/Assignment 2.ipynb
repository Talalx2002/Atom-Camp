{
 "cells": [
  {
   "cell_type": "code",
   "execution_count": 15,
   "metadata": {},
   "outputs": [
    {
     "name": "stdout",
     "output_type": "stream",
     "text": [
      "55\n",
      "pandas\n",
      "numpy\n",
      "Python\n"
     ]
    }
   ],
   "source": [
    "# Task 1\n",
    "# Question 01: Write a for loop that calculates the sum of numbers from 1 to 10.\n",
    "sum = 0\n",
    "for i in range (1,11):\n",
    "    sum+= i\n",
    "print(sum)\n",
    "\n",
    "# Question 02: Print the items of the list [“Python”, “Numpy”, “Pandas”] in reverse order using a for loop.\n",
    "list = [\"Python\",\"numpy\",\"pandas\"]\n",
    "\n",
    "for x in range (len(list)-1,-1,-1):\n",
    "    print(list[x])\n",
    "\n"
   ]
  },
  {
   "cell_type": "code",
   "execution_count": 1,
   "metadata": {},
   "outputs": [],
   "source": [
    "# Task 2\n",
    "# Question 01: Implement a guessing game with a while loop where the user has to guess a set number (e.g., 3). The loop terminates once the user guesses correctly.\n",
    "num = 3 \n",
    "\n",
    "while True:\n",
    "    guess = int(input(\"Enter your guess: \"))\n",
    "    if guess == num:\n",
    "        print(\"You guessed correctly!\")\n",
    "        break\n",
    "    else:\n",
    "        print(\"Try again!\")\n",
    "\n",
    "# Question 02: Write a while loop that asks for user input and adds it to a list. Exit the loop when the user types \"done\".\n",
    "list = []\n",
    "flag = True\n",
    "while flag:\n",
    "    user_input = input(\"Enter a value: \")\n",
    "    if user_input == \"done\":\n",
    "        flag = False\n",
    "    else:\n",
    "        list.append(user_input)"
   ]
  },
  {
   "cell_type": "code",
   "execution_count": 3,
   "metadata": {},
   "outputs": [
    {
     "name": "stdout",
     "output_type": "stream",
     "text": [
      "2\n",
      "4\n",
      "6\n",
      "8\n",
      "10\n",
      "12\n",
      "14\n",
      "16\n",
      "18\n",
      "20\n",
      "[2, 4, 6, 8]\n"
     ]
    }
   ],
   "source": [
    "# Task 3\n",
    "# Question 01: Write a function that prints all even numbers between 1 and 20.\n",
    "def even_numbers():\n",
    "    for i in range(1,21):\n",
    "        if i % 2 == 0:\n",
    "            print(i)\n",
    "even_numbers()\n",
    "\n",
    "# Question 02: Write a function that takes a list and a number as arguments and returns.\n"
   ]
  },
  {
   "cell_type": "code",
   "execution_count": null,
   "metadata": {},
   "outputs": [],
   "source": []
  }
 ],
 "metadata": {
  "kernelspec": {
   "display_name": "Python 3",
   "language": "python",
   "name": "python3"
  },
  "language_info": {
   "codemirror_mode": {
    "name": "ipython",
    "version": 3
   },
   "file_extension": ".py",
   "mimetype": "text/x-python",
   "name": "python",
   "nbconvert_exporter": "python",
   "pygments_lexer": "ipython3",
   "version": "3.11.4"
  }
 },
 "nbformat": 4,
 "nbformat_minor": 2
}
