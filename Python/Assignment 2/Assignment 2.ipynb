{
 "cells": [
  {
   "cell_type": "code",
   "execution_count": 15,
   "metadata": {},
   "outputs": [
    {
     "name": "stdout",
     "output_type": "stream",
     "text": [
      "55\n",
      "pandas\n",
      "numpy\n",
      "Python\n"
     ]
    }
   ],
   "source": [
    "# Task 1\n",
    "# Question 01: Write a for loop that calculates the sum of numbers from 1 to 10.\n",
    "sum = 0\n",
    "for i in range (1,11):\n",
    "    sum+= i\n",
    "print(sum)\n",
    "\n",
    "# Question 02: Print the items of the list [“Python”, “Numpy”, “Pandas”] in reverse order using a for loop.\n",
    "list = [\"Python\",\"numpy\",\"pandas\"]\n",
    "\n",
    "for x in range (len(list)-1,-1,-1):\n",
    "    print(list[x])\n",
    "\n"
   ]
  },
  {
   "cell_type": "code",
   "execution_count": 1,
   "metadata": {},
   "outputs": [],
   "source": [
    "# Task 2\n",
    "# Question 01: Implement a guessing game with a while loop where the user has to guess a set number (e.g., 3). The loop terminates once the user guesses correctly.\n",
    "num = 3 \n",
    "\n",
    "while True:\n",
    "    guess = int(input(\"Enter your guess: \"))\n",
    "    if guess == num:\n",
    "        print(\"You guessed correctly!\")\n",
    "        break\n",
    "    else:\n",
    "        print(\"Try again!\")\n",
    "\n",
    "# Question 02: Write a while loop that asks for user input and adds it to a list. Exit the loop when the user types \"done\".\n",
    "list = []\n",
    "flag = True\n",
    "while flag:\n",
    "    user_input = input(\"Enter a value: \")\n",
    "    if user_input == \"done\":\n",
    "        flag = False\n",
    "    else:\n",
    "        list.append(user_input)"
   ]
  },
  {
   "cell_type": "code",
   "execution_count": 15,
   "metadata": {},
   "outputs": [
    {
     "name": "stdout",
     "output_type": "stream",
     "text": [
      "Even numbers between 1 and 20:\n",
      "2\n",
      "4\n",
      "6\n",
      "8\n",
      "10\n",
      "12\n",
      "14\n",
      "16\n",
      "18\n",
      "20\n",
      "list [3, 6, 9, 12, 15]\n",
      "Addition: 5\n",
      "Maximum number: 10\n",
      "Lamda function 6\n",
      "Even numbers: [2, 4, 6, 8, 10]\n"
     ]
    }
   ],
   "source": [
    "# Task 3\n",
    "# Question 01: Write a function that prints all even numbers between 1 and 20.\n",
    "print(\"Even numbers between 1 and 20:\")\n",
    "def even_numbers():\n",
    "    for i in range(1,21):\n",
    "        if i % 2 == 0:\n",
    "            print(i)\n",
    "even_numbers()\n",
    "\n",
    "# Question 02: Write a function that takes a list and a number as arguments and returns.\n",
    "\n",
    "def list_and_number(**args):\n",
    "    new_list = []\n",
    "    for i in args[\"list\"]:\n",
    "        new_list.append(args[\"number\"] * i )\n",
    "    return new_list\n",
    "\n",
    "list = list_and_number(list = [1,2,3,4,5], number = 3)\n",
    "print(\"list\",list)\n",
    "\n",
    "# Question 03: Write a function calculator that takes three arguments: two numbers and an operation (as a string, e.g., \"add\", \"subtract\", \"multiply\", \"divide\") and returns the result of the operation.\n",
    "\n",
    "def calculator(num1,num2,operation):\n",
    "    if operation == \"add\":\n",
    "        return num1 + num2\n",
    "    elif operation == \"subtract\":\n",
    "        return num1 - num2\n",
    "    elif operation == \"multiply\":\n",
    "        return num1 * num2\n",
    "    elif operation == \"divide\":\n",
    "        return num1 / num2\n",
    "    \n",
    "print(\"Addition:\",calculator(2,3,\"add\"))    \n",
    "\n",
    "\n",
    "# Question 04: Write a function that takes a list of numbers and returns the maximum number in the list?\n",
    "\n",
    "def max_number(list):\n",
    "    max = list[0]\n",
    "    for i in list:\n",
    "        if i > max:\n",
    "            max = i\n",
    "    return max\n",
    "\n",
    "print(\"Maximum number:\",max_number([1,2,3,4,5,6,7,8,9,10]))\n",
    "\n",
    "\n",
    "# Question 05: Create a lambda function that takes two numbers and returns their product.\n",
    "\n",
    "products = lambda x,y: x*y\n",
    "\n",
    "print(\"Lamda function\",products(2,3))\n",
    "\n",
    "# Question 06: Write a function that takes a list and returns a new list containing only the even numbers from the original list.\n",
    "\n",
    "def even_numbers(list):\n",
    "    new_list = []\n",
    "    for i in list:\n",
    "        if i % 2 == 0:\n",
    "            new_list.append(i)\n",
    "    return new_list\n",
    "\n",
    "print(\"Even numbers:\",even_numbers([1,2,3,4,5,6,7,8,9,10]))"
   ]
  },
  {
   "cell_type": "code",
   "execution_count": null,
   "metadata": {},
   "outputs": [],
   "source": []
  }
 ],
 "metadata": {
  "kernelspec": {
   "display_name": "Python 3",
   "language": "python",
   "name": "python3"
  },
  "language_info": {
   "codemirror_mode": {
    "name": "ipython",
    "version": 3
   },
   "file_extension": ".py",
   "mimetype": "text/x-python",
   "name": "python",
   "nbconvert_exporter": "python",
   "pygments_lexer": "ipython3",
   "version": "3.11.4"
  }
 },
 "nbformat": 4,
 "nbformat_minor": 2
}
