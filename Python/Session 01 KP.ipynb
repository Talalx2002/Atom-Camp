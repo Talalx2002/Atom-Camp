{
 "cells": [
  {
   "cell_type": "code",
   "execution_count": 6,
   "id": "e9f3a852",
   "metadata": {},
   "outputs": [
    {
     "name": "stdout",
     "output_type": "stream",
     "text": [
      "Hello World\n"
     ]
    }
   ],
   "source": [
    "#String\n",
    "print(\"Hello World\")"
   ]
  },
  {
   "cell_type": "code",
   "execution_count": 4,
   "id": "89f1fb0b",
   "metadata": {},
   "outputs": [
    {
     "name": "stdout",
     "output_type": "stream",
     "text": [
      "3\n"
     ]
    }
   ],
   "source": [
    "#Interger\n",
    "a = 3\n",
    "print(a)"
   ]
  },
  {
   "cell_type": "markdown",
   "id": "10038667",
   "metadata": {},
   "source": [
    "# Data Types"
   ]
  },
  {
   "cell_type": "markdown",
   "id": "bb097497",
   "metadata": {},
   "source": [
    "String = \"Hello World\"\n",
    "Boolean  = True or False\n",
    "Float = 4.5\n",
    "Integer  = 13"
   ]
  },
  {
   "cell_type": "code",
   "execution_count": 7,
   "id": "8a9a5615",
   "metadata": {},
   "outputs": [
    {
     "data": {
      "text/plain": [
       "4.7"
      ]
     },
     "execution_count": 7,
     "metadata": {},
     "output_type": "execute_result"
    }
   ],
   "source": [
    "#Float\n",
    "b = 4.70\n",
    "b"
   ]
  },
  {
   "cell_type": "code",
   "execution_count": 15,
   "id": "3eea20a5",
   "metadata": {},
   "outputs": [
    {
     "data": {
      "text/plain": [
       "True"
      ]
     },
     "execution_count": 15,
     "metadata": {},
     "output_type": "execute_result"
    }
   ],
   "source": [
    "#Boolean\n",
    "is_student = True\n",
    "is_student"
   ]
  },
  {
   "cell_type": "markdown",
   "id": "be7f03fb",
   "metadata": {},
   "source": [
    "How to name a varaiable\n",
    "1. Alphabets\n",
    "2. Numbers (But not at the start)\n",
    "3. Underscore (_)\n",
    "4. No space i between of variable"
   ]
  },
  {
   "cell_type": "code",
   "execution_count": 16,
   "id": "785208ed",
   "metadata": {},
   "outputs": [
    {
     "data": {
      "text/plain": [
       "5"
      ]
     },
     "execution_count": 16,
     "metadata": {},
     "output_type": "execute_result"
    }
   ],
   "source": [
    "c = 5\n",
    "c"
   ]
  },
  {
   "cell_type": "code",
   "execution_count": 17,
   "id": "9752aabe",
   "metadata": {},
   "outputs": [
    {
     "data": {
      "text/plain": [
       "('Farwa', 8.3, 7)"
      ]
     },
     "execution_count": 17,
     "metadata": {},
     "output_type": "execute_result"
    }
   ],
   "source": [
    "d, f, g = \"Farwa\", 8.3, 7\n",
    "d, f, g  "
   ]
  },
  {
   "cell_type": "code",
   "execution_count": 18,
   "id": "5f789bfb",
   "metadata": {},
   "outputs": [],
   "source": [
    "name = \"Farwa\""
   ]
  },
  {
   "cell_type": "code",
   "execution_count": 19,
   "id": "315bf6d2",
   "metadata": {},
   "outputs": [
    {
     "name": "stdout",
     "output_type": "stream",
     "text": [
      "My name is Farwa\n"
     ]
    }
   ],
   "source": [
    "print(\"My name is\", name)"
   ]
  },
  {
   "cell_type": "code",
   "execution_count": 21,
   "id": "65dc920a",
   "metadata": {},
   "outputs": [
    {
     "name": "stdout",
     "output_type": "stream",
     "text": [
      "My name is Farwa\n"
     ]
    }
   ],
   "source": [
    "#Fstring\n",
    "print(f'My name is {name}')"
   ]
  },
  {
   "cell_type": "code",
   "execution_count": 140,
   "id": "f2571737",
   "metadata": {},
   "outputs": [
    {
     "name": "stdout",
     "output_type": "stream",
     "text": [
      "What is your name? Mehmood\n"
     ]
    },
    {
     "data": {
      "text/plain": [
       "'mehmood'"
      ]
     },
     "execution_count": 140,
     "metadata": {},
     "output_type": "execute_result"
    }
   ],
   "source": [
    "name1 = input(\"What is your name? \")\n",
    "name1.lower()"
   ]
  },
  {
   "cell_type": "code",
   "execution_count": 24,
   "id": "9e32f4a6",
   "metadata": {},
   "outputs": [
    {
     "name": "stdout",
     "output_type": "stream",
     "text": [
      "<class 'int'>\n"
     ]
    }
   ],
   "source": [
    "print(type(a))"
   ]
  },
  {
   "cell_type": "code",
   "execution_count": 25,
   "id": "edf2fdaa",
   "metadata": {},
   "outputs": [
    {
     "name": "stdout",
     "output_type": "stream",
     "text": [
      "<class 'float'>\n"
     ]
    }
   ],
   "source": [
    "print(type(b))"
   ]
  },
  {
   "cell_type": "code",
   "execution_count": 26,
   "id": "dc50b192",
   "metadata": {},
   "outputs": [
    {
     "name": "stdout",
     "output_type": "stream",
     "text": [
      "<class 'int'>\n"
     ]
    }
   ],
   "source": [
    "print(type(c))"
   ]
  },
  {
   "cell_type": "code",
   "execution_count": 27,
   "id": "8238818b",
   "metadata": {},
   "outputs": [
    {
     "name": "stdout",
     "output_type": "stream",
     "text": [
      "<class 'bool'>\n"
     ]
    }
   ],
   "source": [
    "print(type(is_student))"
   ]
  },
  {
   "cell_type": "code",
   "execution_count": 28,
   "id": "b4483aaa",
   "metadata": {},
   "outputs": [
    {
     "name": "stdout",
     "output_type": "stream",
     "text": [
      "<class 'str'>\n"
     ]
    }
   ],
   "source": [
    "print(type(name))"
   ]
  },
  {
   "cell_type": "code",
   "execution_count": 36,
   "id": "0dbe2833",
   "metadata": {},
   "outputs": [
    {
     "name": "stdout",
     "output_type": "stream",
     "text": [
      "True\n"
     ]
    }
   ],
   "source": [
    "f = 10\n",
    "print(bool(f))"
   ]
  },
  {
   "cell_type": "markdown",
   "id": "618df9db",
   "metadata": {},
   "source": [
    "# Arithmetic Operators"
   ]
  },
  {
   "cell_type": "code",
   "execution_count": 37,
   "id": "26f4a1dd",
   "metadata": {},
   "outputs": [],
   "source": [
    "x = 10\n",
    "y = 20"
   ]
  },
  {
   "cell_type": "markdown",
   "id": "1e8cc881",
   "metadata": {},
   "source": [
    "+ \n",
    "-\n",
    "*\n",
    "**\n",
    "/\n",
    "//\n",
    "%"
   ]
  },
  {
   "cell_type": "code",
   "execution_count": 39,
   "id": "85d0f48d",
   "metadata": {},
   "outputs": [
    {
     "name": "stdout",
     "output_type": "stream",
     "text": [
      "Addition: 30\n"
     ]
    }
   ],
   "source": [
    "print(\"Addition:\", x + y)"
   ]
  },
  {
   "cell_type": "code",
   "execution_count": 40,
   "id": "46e52fa0",
   "metadata": {},
   "outputs": [
    {
     "name": "stdout",
     "output_type": "stream",
     "text": [
      "Subtraction: -10\n"
     ]
    }
   ],
   "source": [
    "print(\"Subtraction:\", x - y)"
   ]
  },
  {
   "cell_type": "code",
   "execution_count": 41,
   "id": "3eb3dbb5",
   "metadata": {},
   "outputs": [
    {
     "name": "stdout",
     "output_type": "stream",
     "text": [
      "Multiplication: 200\n"
     ]
    }
   ],
   "source": [
    "print(\"Multiplication:\", x * y)"
   ]
  },
  {
   "cell_type": "code",
   "execution_count": 42,
   "id": "ce942f92",
   "metadata": {},
   "outputs": [
    {
     "name": "stdout",
     "output_type": "stream",
     "text": [
      "Division: 0.5\n"
     ]
    }
   ],
   "source": [
    "print(\"Division:\", x / y)"
   ]
  },
  {
   "cell_type": "code",
   "execution_count": 43,
   "id": "8e696926",
   "metadata": {},
   "outputs": [
    {
     "name": "stdout",
     "output_type": "stream",
     "text": [
      "Interger Division: 0\n"
     ]
    }
   ],
   "source": [
    "print(\"Interger Division:\", x // y)"
   ]
  },
  {
   "cell_type": "code",
   "execution_count": 44,
   "id": "6a9cef7b",
   "metadata": {},
   "outputs": [
    {
     "name": "stdout",
     "output_type": "stream",
     "text": [
      "Modulus: 10\n"
     ]
    }
   ],
   "source": [
    "print(\"Modulus:\", x % y)"
   ]
  },
  {
   "cell_type": "code",
   "execution_count": 45,
   "id": "b9e97d3a",
   "metadata": {},
   "outputs": [
    {
     "name": "stdout",
     "output_type": "stream",
     "text": [
      "Exponenetial: 100000000000000000000\n"
     ]
    }
   ],
   "source": [
    "print(\"Exponenetial:\", x ** y)"
   ]
  },
  {
   "cell_type": "markdown",
   "id": "a70fd098",
   "metadata": {},
   "source": [
    "# Comparison Operators"
   ]
  },
  {
   "cell_type": "markdown",
   "id": "b0c4282f",
   "metadata": {},
   "source": [
    "#3< Less than\n",
    "#> Greater than\n",
    "#>= Greater than and equal to \n",
    "#<= Less than and equal to\n",
    "#== assignment \n",
    "!= Not equal to"
   ]
  },
  {
   "cell_type": "code",
   "execution_count": 46,
   "id": "8528e7a9",
   "metadata": {},
   "outputs": [
    {
     "name": "stdout",
     "output_type": "stream",
     "text": [
      "False\n"
     ]
    }
   ],
   "source": [
    "print(x>y)"
   ]
  },
  {
   "cell_type": "code",
   "execution_count": 47,
   "id": "357611f5",
   "metadata": {},
   "outputs": [
    {
     "name": "stdout",
     "output_type": "stream",
     "text": [
      "True\n"
     ]
    }
   ],
   "source": [
    "print(x<y)"
   ]
  },
  {
   "cell_type": "code",
   "execution_count": 48,
   "id": "55ffd591",
   "metadata": {},
   "outputs": [
    {
     "name": "stdout",
     "output_type": "stream",
     "text": [
      "True\n"
     ]
    }
   ],
   "source": [
    "print(x<=y)"
   ]
  },
  {
   "cell_type": "code",
   "execution_count": 49,
   "id": "b160b824",
   "metadata": {},
   "outputs": [
    {
     "name": "stdout",
     "output_type": "stream",
     "text": [
      "False\n"
     ]
    }
   ],
   "source": [
    "print(x>=y)"
   ]
  },
  {
   "cell_type": "code",
   "execution_count": 50,
   "id": "1e12d7c0",
   "metadata": {},
   "outputs": [
    {
     "name": "stdout",
     "output_type": "stream",
     "text": [
      "False\n"
     ]
    }
   ],
   "source": [
    "print(x==y)"
   ]
  },
  {
   "cell_type": "code",
   "execution_count": 51,
   "id": "0cc01f59",
   "metadata": {},
   "outputs": [
    {
     "name": "stdout",
     "output_type": "stream",
     "text": [
      "True\n"
     ]
    }
   ],
   "source": [
    "print(x!=y)"
   ]
  },
  {
   "cell_type": "code",
   "execution_count": 52,
   "id": "92467bfd",
   "metadata": {},
   "outputs": [],
   "source": [
    "x = 10"
   ]
  },
  {
   "cell_type": "code",
   "execution_count": 53,
   "id": "1c5e3aa3",
   "metadata": {},
   "outputs": [
    {
     "data": {
      "text/plain": [
       "False"
      ]
     },
     "execution_count": 53,
     "metadata": {},
     "output_type": "execute_result"
    }
   ],
   "source": [
    "x == y"
   ]
  },
  {
   "cell_type": "markdown",
   "id": "a1b38014",
   "metadata": {},
   "source": [
    "# Data Structures"
   ]
  },
  {
   "cell_type": "markdown",
   "id": "04616234",
   "metadata": {},
   "source": [
    "String\n",
    "List\n",
    "Tuple\n",
    "String\n",
    "Set"
   ]
  },
  {
   "cell_type": "code",
   "execution_count": 55,
   "id": "1bf50f18",
   "metadata": {},
   "outputs": [
    {
     "data": {
      "text/plain": [
       "'Apple'"
      ]
     },
     "execution_count": 55,
     "metadata": {},
     "output_type": "execute_result"
    }
   ],
   "source": [
    "e = \"Apple\"\n",
    "e"
   ]
  },
  {
   "cell_type": "code",
   "execution_count": 116,
   "id": "3a4d2d88",
   "metadata": {},
   "outputs": [
    {
     "data": {
      "text/plain": [
       "['Apple', 'Banana', 'Orange', 'Pineapple']"
      ]
     },
     "execution_count": 116,
     "metadata": {},
     "output_type": "execute_result"
    }
   ],
   "source": [
    "fruits = [\"Apple\", \"Banana\",\"Orange\", \"Pineapple\"]\n",
    "fruits"
   ]
  },
  {
   "cell_type": "code",
   "execution_count": 107,
   "id": "fcaf34be",
   "metadata": {},
   "outputs": [
    {
     "data": {
      "text/plain": [
       "4"
      ]
     },
     "execution_count": 107,
     "metadata": {},
     "output_type": "execute_result"
    }
   ],
   "source": [
    "length_of = len(fruits)\n",
    "length_of"
   ]
  },
  {
   "cell_type": "code",
   "execution_count": 57,
   "id": "e1671d63",
   "metadata": {},
   "outputs": [
    {
     "data": {
      "text/plain": [
       "'Banana'"
      ]
     },
     "execution_count": 57,
     "metadata": {},
     "output_type": "execute_result"
    }
   ],
   "source": [
    "fruits[1]"
   ]
  },
  {
   "cell_type": "code",
   "execution_count": 109,
   "id": "b1231f54",
   "metadata": {},
   "outputs": [
    {
     "data": {
      "text/plain": [
       "['Banana', 'Orange', 'Pineapple']"
      ]
     },
     "execution_count": 109,
     "metadata": {},
     "output_type": "execute_result"
    }
   ],
   "source": [
    "fruits[1:4]"
   ]
  },
  {
   "cell_type": "code",
   "execution_count": 110,
   "id": "d9ee4787",
   "metadata": {},
   "outputs": [
    {
     "data": {
      "text/plain": [
       "['Banana', 'Orange', 'Pineapple']"
      ]
     },
     "execution_count": 110,
     "metadata": {},
     "output_type": "execute_result"
    }
   ],
   "source": [
    "fruits[1:]"
   ]
  },
  {
   "cell_type": "code",
   "execution_count": 111,
   "id": "7cac0a9e",
   "metadata": {},
   "outputs": [
    {
     "data": {
      "text/plain": [
       "['Apple', 'Banana', 'Orange', 'Pineapple']"
      ]
     },
     "execution_count": 111,
     "metadata": {},
     "output_type": "execute_result"
    }
   ],
   "source": [
    "fruits[:4]"
   ]
  },
  {
   "cell_type": "code",
   "execution_count": 118,
   "id": "18fa4d4b",
   "metadata": {},
   "outputs": [
    {
     "data": {
      "text/plain": [
       "['Apple', 'Banana']"
      ]
     },
     "execution_count": 118,
     "metadata": {},
     "output_type": "execute_result"
    }
   ],
   "source": [
    "fruits[0:2]"
   ]
  },
  {
   "cell_type": "code",
   "execution_count": 58,
   "id": "eadfb1f9",
   "metadata": {},
   "outputs": [
    {
     "data": {
      "text/plain": [
       "'Pineapple'"
      ]
     },
     "execution_count": 58,
     "metadata": {},
     "output_type": "execute_result"
    }
   ],
   "source": [
    "fruits[-1]"
   ]
  },
  {
   "cell_type": "code",
   "execution_count": 59,
   "id": "ad95ec81",
   "metadata": {},
   "outputs": [
    {
     "data": {
      "text/plain": [
       "'Pineapple'"
      ]
     },
     "execution_count": 59,
     "metadata": {},
     "output_type": "execute_result"
    }
   ],
   "source": [
    "fruits[6]"
   ]
  },
  {
   "cell_type": "code",
   "execution_count": 63,
   "id": "289a7465",
   "metadata": {},
   "outputs": [
    {
     "name": "stdout",
     "output_type": "stream",
     "text": [
      "None\n"
     ]
    },
    {
     "data": {
      "text/plain": [
       "['Apple',\n",
       " 'Banana',\n",
       " 3,\n",
       " 4.8,\n",
       " True,\n",
       " 'Orange',\n",
       " 'Pineapple',\n",
       " 'Coconut',\n",
       " 'Coconut',\n",
       " 'Coconut']"
      ]
     },
     "execution_count": 63,
     "metadata": {},
     "output_type": "execute_result"
    }
   ],
   "source": [
    "fruits.append(\"Coconut\")\n",
    "fruits"
   ]
  },
  {
   "cell_type": "code",
   "execution_count": 66,
   "id": "24c1edc1",
   "metadata": {},
   "outputs": [
    {
     "data": {
      "text/plain": [
       "['Apple', 'Banana', 3, 4.8, True, 'Orange', 'Pineapple']"
      ]
     },
     "execution_count": 66,
     "metadata": {},
     "output_type": "execute_result"
    }
   ],
   "source": [
    "fruits.remove(\"Coconut\")\n",
    "fruits"
   ]
  },
  {
   "cell_type": "code",
   "execution_count": 67,
   "id": "7ee0266d",
   "metadata": {},
   "outputs": [
    {
     "data": {
      "text/plain": [
       "['Apple', 'Coconut', 'Banana', 3, 4.8, True, 'Orange', 'Pineapple']"
      ]
     },
     "execution_count": 67,
     "metadata": {},
     "output_type": "execute_result"
    }
   ],
   "source": [
    "fruits.insert(1,\"Coconut\")\n",
    "fruits"
   ]
  },
  {
   "cell_type": "code",
   "execution_count": 71,
   "id": "189b9b40",
   "metadata": {},
   "outputs": [
    {
     "data": {
      "text/plain": [
       "['Apple', 'Banana', 'Orange', 'Pineapple']"
      ]
     },
     "execution_count": 71,
     "metadata": {},
     "output_type": "execute_result"
    }
   ],
   "source": [
    "fruits.sort()\n",
    "fruits"
   ]
  },
  {
   "cell_type": "code",
   "execution_count": 72,
   "id": "891d2b13",
   "metadata": {},
   "outputs": [
    {
     "data": {
      "text/plain": [
       "['Pineapple', 'Orange', 'Banana', 'Apple']"
      ]
     },
     "execution_count": 72,
     "metadata": {},
     "output_type": "execute_result"
    }
   ],
   "source": [
    "fruits.reverse()\n",
    "fruits"
   ]
  },
  {
   "cell_type": "code",
   "execution_count": 73,
   "id": "efa4cac6",
   "metadata": {},
   "outputs": [
    {
     "data": {
      "text/plain": [
       "1"
      ]
     },
     "execution_count": 73,
     "metadata": {},
     "output_type": "execute_result"
    }
   ],
   "source": [
    "fruits.count(\"Pineapple\")"
   ]
  },
  {
   "cell_type": "code",
   "execution_count": 83,
   "id": "430f7a84",
   "metadata": {},
   "outputs": [
    {
     "name": "stdout",
     "output_type": "stream",
     "text": [
      "0\n"
     ]
    }
   ],
   "source": [
    "I = fruits.index(\"Pineapple\")\n",
    "print(I)"
   ]
  },
  {
   "cell_type": "code",
   "execution_count": 82,
   "id": "a5d85423",
   "metadata": {},
   "outputs": [
    {
     "name": "stdout",
     "output_type": "stream",
     "text": [
      "['Pineapple', 'Orange', 'Banana', 'Apple', 'Lemon', 'Lemon']\n"
     ]
    }
   ],
   "source": [
    "F = fruits.remove(\"Lemon\")\n",
    "print(fruits)"
   ]
  },
  {
   "cell_type": "code",
   "execution_count": 85,
   "id": "618b591d",
   "metadata": {},
   "outputs": [
    {
     "data": {
      "text/plain": [
       "[]"
      ]
     },
     "execution_count": 85,
     "metadata": {},
     "output_type": "execute_result"
    }
   ],
   "source": [
    "fruits.clear()\n",
    "fruits"
   ]
  },
  {
   "cell_type": "markdown",
   "id": "e78eced9",
   "metadata": {},
   "source": [
    "# wvdubjaxs"
   ]
  },
  {
   "cell_type": "markdown",
   "id": "008701a5",
   "metadata": {},
   "source": [
    "# A"
   ]
  },
  {
   "cell_type": "markdown",
   "id": "086ec3c2",
   "metadata": {},
   "source": [
    "## A"
   ]
  },
  {
   "cell_type": "markdown",
   "id": "51efcecb",
   "metadata": {},
   "source": [
    "### A"
   ]
  },
  {
   "cell_type": "markdown",
   "id": "ed896f71",
   "metadata": {},
   "source": [
    "#### A"
   ]
  },
  {
   "cell_type": "markdown",
   "id": "36b534e9",
   "metadata": {},
   "source": [
    "# Tuples: Immutable, "
   ]
  },
  {
   "cell_type": "code",
   "execution_count": 97,
   "id": "ce39dcf9",
   "metadata": {},
   "outputs": [
    {
     "data": {
      "text/plain": [
       "(1, 'Apple', 2.1, True, 3, 4, 5, 6)"
      ]
     },
     "execution_count": 97,
     "metadata": {},
     "output_type": "execute_result"
    }
   ],
   "source": [
    "my_tuple = (1,\"Apple\",2.1,True, 3, 4, 5, 6)\n",
    "my_tuple"
   ]
  },
  {
   "cell_type": "code",
   "execution_count": 87,
   "id": "fbf3d24c",
   "metadata": {},
   "outputs": [
    {
     "data": {
      "text/plain": [
       "3"
      ]
     },
     "execution_count": 87,
     "metadata": {},
     "output_type": "execute_result"
    }
   ],
   "source": [
    "my_tuple[2]"
   ]
  },
  {
   "cell_type": "code",
   "execution_count": 92,
   "id": "f463d5f2",
   "metadata": {},
   "outputs": [
    {
     "data": {
      "text/plain": [
       "(2.1, True, 3, 4)"
      ]
     },
     "execution_count": 92,
     "metadata": {},
     "output_type": "execute_result"
    }
   ],
   "source": [
    "my_tuple[2:6]"
   ]
  },
  {
   "cell_type": "code",
   "execution_count": 93,
   "id": "50e97ddc",
   "metadata": {},
   "outputs": [
    {
     "data": {
      "text/plain": [
       "(1, 'Apple', 2.1, True, 3, 4, 5)"
      ]
     },
     "execution_count": 93,
     "metadata": {},
     "output_type": "execute_result"
    }
   ],
   "source": [
    "# my_tuple[0(Include):7(Exclude)]"
   ]
  },
  {
   "cell_type": "code",
   "execution_count": 99,
   "id": "93fbae88",
   "metadata": {},
   "outputs": [
    {
     "data": {
      "text/plain": [
       "(1, 'Apple', 2.1, True, 3, 4, 5)"
      ]
     },
     "execution_count": 99,
     "metadata": {},
     "output_type": "execute_result"
    }
   ],
   "source": [
    "# my_tuple[0(Start):7(Stop):1(Step)]"
   ]
  },
  {
   "cell_type": "code",
   "execution_count": 102,
   "id": "a88665b2",
   "metadata": {},
   "outputs": [
    {
     "data": {
      "text/plain": [
       "(1, 2.1, 3, 5)"
      ]
     },
     "execution_count": 102,
     "metadata": {},
     "output_type": "execute_result"
    }
   ],
   "source": [
    "my_tuple[0:7:2]"
   ]
  },
  {
   "cell_type": "markdown",
   "id": "f8135d36",
   "metadata": {},
   "source": [
    "# Len"
   ]
  },
  {
   "cell_type": "code",
   "execution_count": 103,
   "id": "480567e8",
   "metadata": {},
   "outputs": [
    {
     "data": {
      "text/plain": [
       "8"
      ]
     },
     "execution_count": 103,
     "metadata": {},
     "output_type": "execute_result"
    }
   ],
   "source": [
    "length = len(my_tuple)\n",
    "length_"
   ]
  },
  {
   "cell_type": "markdown",
   "id": "3410f06d",
   "metadata": {},
   "source": [
    "# Sets"
   ]
  },
  {
   "cell_type": "code",
   "execution_count": 122,
   "id": "0ea7aa49",
   "metadata": {},
   "outputs": [
    {
     "data": {
      "text/plain": [
       "{10, 6.8, 7, 8, 9, 'apple'}"
      ]
     },
     "execution_count": 122,
     "metadata": {},
     "output_type": "execute_result"
    }
   ],
   "source": [
    "my_set = {7,\"apple\", 6.8, 8,9,10}\n",
    "my_set "
   ]
  },
  {
   "cell_type": "code",
   "execution_count": 123,
   "id": "942cbddb",
   "metadata": {},
   "outputs": [
    {
     "data": {
      "text/plain": [
       "{10, 4, 6.8, 7, 8, 9, 'apple'}"
      ]
     },
     "execution_count": 123,
     "metadata": {},
     "output_type": "execute_result"
    }
   ],
   "source": [
    "my_set.add(4)\n",
    "my_set"
   ]
  },
  {
   "cell_type": "code",
   "execution_count": 125,
   "id": "5b6383af",
   "metadata": {},
   "outputs": [
    {
     "data": {
      "text/plain": [
       "{4, 6.8, 7, 8, 9, 10}"
      ]
     },
     "execution_count": 125,
     "metadata": {},
     "output_type": "execute_result"
    }
   ],
   "source": [
    "my_set.remove(\"apple\")\n",
    "my_set"
   ]
  },
  {
   "cell_type": "code",
   "execution_count": 127,
   "id": "79bee34c",
   "metadata": {},
   "outputs": [],
   "source": [
    "set1 = {1,2,3,4}\n",
    "set2 = {4,5,6,7}"
   ]
  },
  {
   "cell_type": "code",
   "execution_count": 128,
   "id": "5d906395",
   "metadata": {},
   "outputs": [
    {
     "name": "stdout",
     "output_type": "stream",
     "text": [
      "Union: {1, 2, 3, 4, 5, 6, 7}\n"
     ]
    }
   ],
   "source": [
    "union = set1 | set2\n",
    "print(\"Union:\",union )"
   ]
  },
  {
   "cell_type": "code",
   "execution_count": 129,
   "id": "7fa0ab36",
   "metadata": {},
   "outputs": [
    {
     "name": "stdout",
     "output_type": "stream",
     "text": [
      "Intersection: {4}\n"
     ]
    }
   ],
   "source": [
    "Intersection = set1 & set2\n",
    "print(\"Intersection:\", Intersection)"
   ]
  },
  {
   "cell_type": "code",
   "execution_count": 131,
   "id": "3ac99fa9",
   "metadata": {},
   "outputs": [
    {
     "name": "stdout",
     "output_type": "stream",
     "text": [
      "Difference {1, 2, 3}\n"
     ]
    }
   ],
   "source": [
    "Difference = set1 - set2\n",
    "print(\"Difference\",Difference )"
   ]
  },
  {
   "cell_type": "code",
   "execution_count": 135,
   "id": "1c974643",
   "metadata": {},
   "outputs": [],
   "source": [
    "string = \"student\""
   ]
  },
  {
   "cell_type": "code",
   "execution_count": 136,
   "id": "de7ee7af",
   "metadata": {},
   "outputs": [
    {
     "data": {
      "text/plain": [
       "'STUDENT'"
      ]
     },
     "execution_count": 136,
     "metadata": {},
     "output_type": "execute_result"
    }
   ],
   "source": [
    "string.upper()"
   ]
  },
  {
   "cell_type": "code",
   "execution_count": 137,
   "id": "84762fd9",
   "metadata": {},
   "outputs": [
    {
     "data": {
      "text/plain": [
       "'student'"
      ]
     },
     "execution_count": 137,
     "metadata": {},
     "output_type": "execute_result"
    }
   ],
   "source": [
    "string.lower()"
   ]
  },
  {
   "cell_type": "markdown",
   "id": "075a2eab",
   "metadata": {},
   "source": [
    "# Dictionary"
   ]
  },
  {
   "cell_type": "code",
   "execution_count": 141,
   "id": "0531c0eb",
   "metadata": {},
   "outputs": [
    {
     "data": {
      "text/plain": [
       "{'Fahad': [40, 20, 100], 'Saira': [44, 22, 99], 'Mehmood': [50, 20, 100]}"
      ]
     },
     "execution_count": 141,
     "metadata": {},
     "output_type": "execute_result"
    }
   ],
   "source": [
    "Grades = {\"Fahad\": [40, 20, 100], \"Saira\":[44, 22, 99], \"Mehmood\":[50, 20, 100]}\n",
    "Grades"
   ]
  },
  {
   "cell_type": "code",
   "execution_count": 144,
   "id": "cb0a30a6",
   "metadata": {},
   "outputs": [
    {
     "data": {
      "text/plain": [
       "22"
      ]
     },
     "execution_count": 144,
     "metadata": {},
     "output_type": "execute_result"
    }
   ],
   "source": [
    "Grades[\"Saira\"][1]"
   ]
  },
  {
   "cell_type": "code",
   "execution_count": null,
   "id": "7e6315fa",
   "metadata": {},
   "outputs": [],
   "source": []
  }
 ],
 "metadata": {
  "kernelspec": {
   "display_name": "Python 3 (ipykernel)",
   "language": "python",
   "name": "python3"
  },
  "language_info": {
   "codemirror_mode": {
    "name": "ipython",
    "version": 3
   },
   "file_extension": ".py",
   "mimetype": "text/x-python",
   "name": "python",
   "nbconvert_exporter": "python",
   "pygments_lexer": "ipython3",
   "version": "3.11.5"
  }
 },
 "nbformat": 4,
 "nbformat_minor": 5
}
