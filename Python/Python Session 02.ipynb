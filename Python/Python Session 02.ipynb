{
 "cells": [
  {
   "cell_type": "code",
   "execution_count": null,
   "id": "2274bca4",
   "metadata": {},
   "outputs": [],
   "source": [
    "print\n",
    "datatypes bol, int, float, string\n",
    "datastructures list, set, tuple, dictionary"
   ]
  },
  {
   "cell_type": "code",
   "execution_count": null,
   "id": "87d43c30",
   "metadata": {},
   "outputs": [],
   "source": [
    "If-else"
   ]
  },
  {
   "cell_type": "markdown",
   "id": "e9fcd856",
   "metadata": {},
   "source": [
    "# Control Flow"
   ]
  },
  {
   "cell_type": "code",
   "execution_count": null,
   "id": "85e8f0ba",
   "metadata": {},
   "outputs": [],
   "source": [
    "#syntax\n",
    "if condition:\n",
    "    print(statement01)\n",
    "print(statement02)"
   ]
  },
  {
   "cell_type": "code",
   "execution_count": null,
   "id": "9f363ecc",
   "metadata": {},
   "outputs": [],
   "source": [
    "#syntax\n",
    "if condition:\n",
    "    print(statement01)\n",
    "else:\n",
    "    print(statement02)"
   ]
  },
  {
   "cell_type": "code",
   "execution_count": 1,
   "id": "ede8f4f2",
   "metadata": {},
   "outputs": [
    {
     "name": "stdout",
     "output_type": "stream",
     "text": [
      "i is less than or equal to 15\n"
     ]
    }
   ],
   "source": [
    "i = 10\n",
    "if (i>15):\n",
    "    print(\"i is greater than 15\")\n",
    "print(\"i is less than or equal to 15\")"
   ]
  },
  {
   "cell_type": "code",
   "execution_count": 2,
   "id": "edaed768",
   "metadata": {},
   "outputs": [
    {
     "name": "stdout",
     "output_type": "stream",
     "text": [
      "i is less than or equal to 15\n"
     ]
    }
   ],
   "source": [
    "i = 10\n",
    "if (i>15):\n",
    "    print(\"i is greater than 15\")\n",
    "else:\n",
    "    print(\"i is less than or equal to 15\")"
   ]
  },
  {
   "cell_type": "code",
   "execution_count": null,
   "id": "02eaddf3",
   "metadata": {},
   "outputs": [],
   "source": [
    "if(condition01):\n",
    "    print(statement01)\n",
    "elif(condition02):\n",
    "    print(statement02)\n",
    "else: \n",
    "    print(statement02)\n"
   ]
  },
  {
   "cell_type": "code",
   "execution_count": 4,
   "id": "7dafd094",
   "metadata": {},
   "outputs": [
    {
     "name": "stdout",
     "output_type": "stream",
     "text": [
      "I is equal to 10\n"
     ]
    }
   ],
   "source": [
    "#elif\n",
    "i=10\n",
    "if (i>10):\n",
    "    print(\"I is greater than 10\")\n",
    "elif (i==10):\n",
    "    print(\"I is equal to 10\")\n",
    "else:\n",
    "    print(\"I is not greater than 10\")"
   ]
  },
  {
   "cell_type": "code",
   "execution_count": 11,
   "id": "d1a8125a",
   "metadata": {},
   "outputs": [
    {
     "name": "stdout",
     "output_type": "stream",
     "text": [
      "I is equal to 10\n"
     ]
    }
   ],
   "source": [
    "#elif\n",
    "i=10\n",
    "if (i>10):\n",
    "    print(\"I is greater than 10\")\n",
    "elif (i==10):\n",
    "    print(\"I is equal to 10\")\n",
    "elif (i!=10):\n",
    "    print(\"i is not equal to 10\")\n",
    "else:\n",
    "    print(\"I is not greater than 10\")"
   ]
  },
  {
   "cell_type": "code",
   "execution_count": 12,
   "id": "626c8ee2",
   "metadata": {},
   "outputs": [],
   "source": [
    "i=10\n",
    "if i>10: \n",
    "    print(\"I is greater than 10\")"
   ]
  },
  {
   "cell_type": "code",
   "execution_count": 16,
   "id": "f5f26dc3",
   "metadata": {},
   "outputs": [
    {
     "name": "stdout",
     "output_type": "stream",
     "text": [
      "i is greater than 10\n",
      "i is less than 30\n"
     ]
    }
   ],
   "source": [
    "i = 20 \n",
    "if (i>10):\n",
    "    print(\"i is greater than 10\")\n",
    "    if(i < 30 ):\n",
    "        print(\"i is less than 30\")\n",
    "    else:\n",
    "        print(\"i is greater than 30\")\n",
    "else: \n",
    "    print(\"i is not greater than 10\")"
   ]
  },
  {
   "cell_type": "code",
   "execution_count": 18,
   "id": "dfa3dceb",
   "metadata": {},
   "outputs": [
    {
     "name": "stdout",
     "output_type": "stream",
     "text": [
      "Blank list\n"
     ]
    },
    {
     "data": {
      "text/plain": [
       "[]"
      ]
     },
     "execution_count": 18,
     "metadata": {},
     "output_type": "execute_result"
    }
   ],
   "source": [
    "List = []\n",
    "print(\"Blank list\")\n",
    "List"
   ]
  },
  {
   "cell_type": "code",
   "execution_count": 22,
   "id": "ea9c11f6",
   "metadata": {},
   "outputs": [
    {
     "name": "stdout",
     "output_type": "stream",
     "text": [
      "[]\n",
      "[10, 20, 30, 40, 50]\n"
     ]
    }
   ],
   "source": [
    "List = []\n",
    "List1 = [10,20,30,40,50]\n",
    "print(List)\n",
    "print(List1)"
   ]
  },
  {
   "cell_type": "code",
   "execution_count": 23,
   "id": "5c8c7c8d",
   "metadata": {},
   "outputs": [
    {
     "data": {
      "text/plain": [
       "[10, 20, 30, 40, 50]"
      ]
     },
     "execution_count": 23,
     "metadata": {},
     "output_type": "execute_result"
    }
   ],
   "source": [
    "List1 = [10,20,30,40,50]\n",
    "List1"
   ]
  },
  {
   "cell_type": "code",
   "execution_count": 24,
   "id": "0d27001c",
   "metadata": {},
   "outputs": [
    {
     "name": "stdout",
     "output_type": "stream",
     "text": [
      "List with strings\n"
     ]
    },
    {
     "data": {
      "text/plain": [
       "['Noor', 'Hina', 'Kashif', 'Haris']"
      ]
     },
     "execution_count": 24,
     "metadata": {},
     "output_type": "execute_result"
    }
   ],
   "source": [
    "List2 = [\"Noor\", \"Hina\", \"Kashif\", \"Haris\"]\n",
    "print(\"List with strings\")\n",
    "List2 "
   ]
  },
  {
   "cell_type": "code",
   "execution_count": 26,
   "id": "58a03c91",
   "metadata": {},
   "outputs": [
    {
     "name": "stdout",
     "output_type": "stream",
     "text": [
      "List with Differnt values\n"
     ]
    },
    {
     "data": {
      "text/plain": [
       "[40, 50, 'Noor', 'Momna', 70]"
      ]
     },
     "execution_count": 26,
     "metadata": {},
     "output_type": "execute_result"
    }
   ],
   "source": [
    "List3= [40, 50, \"Noor\", \"Momna\", 70]\n",
    "print(\"List with Differnt values\")\n",
    "List3"
   ]
  },
  {
   "cell_type": "code",
   "execution_count": 28,
   "id": "f1e03bd4",
   "metadata": {},
   "outputs": [
    {
     "name": "stdout",
     "output_type": "stream",
     "text": [
      "70\n"
     ]
    }
   ],
   "source": [
    "print(List3[-1])"
   ]
  },
  {
   "cell_type": "code",
   "execution_count": 30,
   "id": "b7a83ad7",
   "metadata": {},
   "outputs": [
    {
     "data": {
      "text/plain": [
       "['Noor', 'Hina', 'Kashif', 'Haris', 10, 20, 30, 40, 50, 10, 20, 30, 40, 50]"
      ]
     },
     "execution_count": 30,
     "metadata": {},
     "output_type": "execute_result"
    }
   ],
   "source": [
    "List2.extend(List1)\n",
    "List2"
   ]
  },
  {
   "cell_type": "code",
   "execution_count": 31,
   "id": "cf2ec061",
   "metadata": {},
   "outputs": [
    {
     "data": {
      "text/plain": [
       "[10, 20, 30, 40, 50, 60, 70, 80, 90]"
      ]
     },
     "execution_count": 31,
     "metadata": {},
     "output_type": "execute_result"
    }
   ],
   "source": [
    "List1.extend([60,70,80,90])\n",
    "List1"
   ]
  },
  {
   "cell_type": "code",
   "execution_count": 32,
   "id": "7877926c",
   "metadata": {},
   "outputs": [
    {
     "data": {
      "text/plain": [
       "[['11,22,33,44'], ['Apple', 'Banana', 'Orange']]"
      ]
     },
     "execution_count": 32,
     "metadata": {},
     "output_type": "execute_result"
    }
   ],
   "source": [
    "# Multi dimensional List\n",
    "List3 = [[\"11,22,33,44\"],[\"Apple\", \"Banana\", \"Orange\"]]\n",
    "List3"
   ]
  },
  {
   "cell_type": "code",
   "execution_count": 35,
   "id": "07ef6cc9",
   "metadata": {},
   "outputs": [
    {
     "data": {
      "text/plain": [
       "[[11, 22, 33, 44], 10, ['Apple', 'Banana', 'Orange'], 'Amna', True]"
      ]
     },
     "execution_count": 35,
     "metadata": {},
     "output_type": "execute_result"
    }
   ],
   "source": [
    "List4 = [[11,22,33,44],10,[\"Apple\", \"Banana\", \"Orange\"], \"Amna\", True]\n",
    "List4"
   ]
  },
  {
   "cell_type": "code",
   "execution_count": 37,
   "id": "de3ead1d",
   "metadata": {},
   "outputs": [
    {
     "name": "stdout",
     "output_type": "stream",
     "text": [
      "44\n"
     ]
    }
   ],
   "source": [
    "print(List4[0][3])"
   ]
  },
  {
   "cell_type": "code",
   "execution_count": 38,
   "id": "2887f6c4",
   "metadata": {},
   "outputs": [
    {
     "name": "stdout",
     "output_type": "stream",
     "text": [
      "Banana\n"
     ]
    }
   ],
   "source": [
    "print(List4[2][1])"
   ]
  },
  {
   "cell_type": "code",
   "execution_count": 39,
   "id": "adcd9bbb",
   "metadata": {},
   "outputs": [
    {
     "name": "stdout",
     "output_type": "stream",
     "text": [
      "5\n"
     ]
    }
   ],
   "source": [
    "print(len(List4))"
   ]
  },
  {
   "cell_type": "markdown",
   "id": "3418525c",
   "metadata": {},
   "source": [
    "# Tuple"
   ]
  },
  {
   "cell_type": "code",
   "execution_count": 41,
   "id": "ea978f18",
   "metadata": {},
   "outputs": [
    {
     "name": "stdout",
     "output_type": "stream",
     "text": [
      "Empty Tuple\n",
      "()\n"
     ]
    }
   ],
   "source": [
    "Tuple1 = ()\n",
    "print(\"Empty Tuple\")\n",
    "print(Tuple1)"
   ]
  },
  {
   "cell_type": "code",
   "execution_count": 42,
   "id": "e63e1741",
   "metadata": {},
   "outputs": [
    {
     "name": "stdout",
     "output_type": "stream",
     "text": [
      "Tuple with string\n"
     ]
    },
    {
     "data": {
      "text/plain": [
       "('Daniyal', 'Hina', 'Tariq')"
      ]
     },
     "execution_count": 42,
     "metadata": {},
     "output_type": "execute_result"
    }
   ],
   "source": [
    "Tuple2 = (\"Daniyal\", \"Hina\", \"Tariq\")\n",
    "print(\"Tuple with string\")\n",
    "Tuple2"
   ]
  },
  {
   "cell_type": "code",
   "execution_count": 49,
   "id": "9b4e106e",
   "metadata": {},
   "outputs": [
    {
     "name": "stdout",
     "output_type": "stream",
     "text": [
      "Tuple with numbers\n"
     ]
    },
    {
     "data": {
      "text/plain": [
       "(10, 20, 20, 30, 20, 30, 40)"
      ]
     },
     "execution_count": 49,
     "metadata": {},
     "output_type": "execute_result"
    }
   ],
   "source": [
    "Tuple3 = (10,20, 20, 30,20,30,40)\n",
    "print(\"Tuple with numbers\")\n",
    "Tuple3"
   ]
  },
  {
   "cell_type": "code",
   "execution_count": 44,
   "id": "e6575262",
   "metadata": {},
   "outputs": [
    {
     "name": "stdout",
     "output_type": "stream",
     "text": [
      "Tuple with mixed data types\n"
     ]
    },
    {
     "data": {
      "text/plain": [
       "(5, 'Welcome', '2', 'Python', 'Session', 2)"
      ]
     },
     "execution_count": 44,
     "metadata": {},
     "output_type": "execute_result"
    }
   ],
   "source": [
    "Tuple4 = (5, \"Welcome\", \"2\", \"Python\", \"Session\", 2)\n",
    "print(\"Tuple with mixed data types\")\n",
    "Tuple4"
   ]
  },
  {
   "cell_type": "code",
   "execution_count": 45,
   "id": "0ac10885",
   "metadata": {},
   "outputs": [
    {
     "data": {
      "text/plain": [
       "(('Daniyal', 'Hina', 'Tariq'), (10, 20, 30, 40))"
      ]
     },
     "execution_count": 45,
     "metadata": {},
     "output_type": "execute_result"
    }
   ],
   "source": [
    "#nested tuple\n",
    "Tuple5 = (Tuple2, Tuple3)\n",
    "Tuple5"
   ]
  },
  {
   "cell_type": "code",
   "execution_count": 53,
   "id": "98feccba",
   "metadata": {},
   "outputs": [
    {
     "data": {
      "text/plain": [
       "('Daniyal', 'Hina', 'Tariq', 'Daniyal', 'Hina', 'Tariq')"
      ]
     },
     "execution_count": 53,
     "metadata": {},
     "output_type": "execute_result"
    }
   ],
   "source": [
    "Tuple6 = Tuple2 + Tuple2\n",
    "Tuple6"
   ]
  },
  {
   "cell_type": "code",
   "execution_count": 56,
   "id": "31456acc",
   "metadata": {},
   "outputs": [
    {
     "data": {
      "text/plain": [
       "(10, 20, 20, 30, 20, 30, 40, 10, 20, 20, 30, 20, 30, 40)"
      ]
     },
     "execution_count": 56,
     "metadata": {},
     "output_type": "execute_result"
    }
   ],
   "source": [
    "Tuple7 = Tuple3 * 2\n",
    "Tuple7"
   ]
  },
  {
   "cell_type": "code",
   "execution_count": 57,
   "id": "43d7a81b",
   "metadata": {},
   "outputs": [
    {
     "name": "stdout",
     "output_type": "stream",
     "text": [
      "Apple\n",
      "Banana\n",
      "['Orange', 'Pineapple', 'Strawberry']\n"
     ]
    }
   ],
   "source": [
    "Fruits = (\"Apple\", \"Banana\", \"Orange\", \"Pineapple\", \"Strawberry\")\n",
    "(Red, Yellow, *green) = Fruits \n",
    "\n",
    "print(Red)\n",
    "print(Yellow)\n",
    "print(green)"
   ]
  },
  {
   "cell_type": "code",
   "execution_count": 58,
   "id": "ea6066d3",
   "metadata": {},
   "outputs": [
    {
     "name": "stdout",
     "output_type": "stream",
     "text": [
      "Values after unpacking\n",
      "Apple\n",
      "Banana\n",
      "Orange\n",
      "Pineapple\n",
      "Strawberry\n"
     ]
    }
   ],
   "source": [
    "# Tuple unpacking\n",
    "Fruits = (\"Apple\", \"Banana\", \"Orange\", \"Pineapple\", \"Strawberry\")\n",
    "a, b, c, d, e = Fruits\n",
    "print(\"Values after unpacking\")\n",
    "print(a)\n",
    "print(b)\n",
    "print(c)\n",
    "print(d)\n",
    "print(e)"
   ]
  },
  {
   "cell_type": "code",
   "execution_count": 59,
   "id": "1651ecfe",
   "metadata": {},
   "outputs": [
    {
     "name": "stdout",
     "output_type": "stream",
     "text": [
      "Apple\n"
     ]
    }
   ],
   "source": [
    "Fruits = []] \"Strawberry\")\n",
    "print(Fruits[0])"
   ]
  },
  {
   "cell_type": "code",
   "execution_count": 60,
   "id": "de10cb87",
   "metadata": {},
   "outputs": [
    {
     "name": "stdout",
     "output_type": "stream",
     "text": [
      "('Banana', 'Orange', 'Pineapple')\n"
     ]
    }
   ],
   "source": [
    "print(Fruits[1:4])"
   ]
  },
  {
   "cell_type": "code",
   "execution_count": 61,
   "id": "8fda4c21",
   "metadata": {},
   "outputs": [
    {
     "name": "stdout",
     "output_type": "stream",
     "text": [
      "('Banana', 'Orange', 'Pineapple', 'Strawberry')\n"
     ]
    }
   ],
   "source": [
    "print(Fruits[1:])"
   ]
  },
  {
   "cell_type": "code",
   "execution_count": 62,
   "id": "bd612d33",
   "metadata": {},
   "outputs": [
    {
     "name": "stdout",
     "output_type": "stream",
     "text": [
      "('Banana', 'Orange', 'Pineapple', 'Strawberry')\n"
     ]
    }
   ],
   "source": [
    "print(Fruits[1:5])"
   ]
  },
  {
   "cell_type": "code",
   "execution_count": 64,
   "id": "c76c4948",
   "metadata": {},
   "outputs": [
    {
     "name": "stdout",
     "output_type": "stream",
     "text": [
      "('Apple', 'Banana')\n"
     ]
    }
   ],
   "source": [
    "Fruits1 = Fruits[0:2]\n",
    "print(Fruits1)"
   ]
  },
  {
   "cell_type": "code",
   "execution_count": 65,
   "id": "4eaca015",
   "metadata": {},
   "outputs": [
    {
     "data": {
      "text/plain": [
       "('Banana', 'Orange', 'Pineapple', 'Strawberry')"
      ]
     },
     "execution_count": 65,
     "metadata": {},
     "output_type": "execute_result"
    }
   ],
   "source": [
    "Fruits2 = Fruits[1:]\n",
    "Fruits2"
   ]
  },
  {
   "cell_type": "code",
   "execution_count": 67,
   "id": "d7e6f949",
   "metadata": {},
   "outputs": [
    {
     "name": "stdout",
     "output_type": "stream",
     "text": [
      "('Apple', 'Banana', 'Orange', 'Pineapple')\n"
     ]
    }
   ],
   "source": [
    "print(Fruits[:4])"
   ]
  },
  {
   "cell_type": "code",
   "execution_count": 68,
   "id": "50e6c96e",
   "metadata": {},
   "outputs": [
    {
     "data": {
      "text/plain": [
       "14"
      ]
     },
     "execution_count": 68,
     "metadata": {},
     "output_type": "execute_result"
    }
   ],
   "source": [
    "#PEMDAS\n",
    "Parathesis\n",
    "Exponetial\n",
    "Muliplication\n",
    "Vivision\n",
    "Addition\n",
    "\n",
    "marks = 2 + 3 * 4\n",
    "marks"
   ]
  },
  {
   "cell_type": "code",
   "execution_count": 82,
   "id": "5763fd8e",
   "metadata": {},
   "outputs": [
    {
     "data": {
      "text/plain": [
       "-23"
      ]
     },
     "execution_count": 82,
     "metadata": {},
     "output_type": "execute_result"
    }
   ],
   "source": [
    "marks1 = (2 + 3) - 2**2 + (13%2) - (30 - 5)\n",
    "marks1"
   ]
  },
  {
   "cell_type": "code",
   "execution_count": 83,
   "id": "a7434256",
   "metadata": {},
   "outputs": [
    {
     "data": {
      "text/plain": [
       "{1, 2, 3}"
      ]
     },
     "execution_count": 83,
     "metadata": {},
     "output_type": "execute_result"
    }
   ],
   "source": [
    "Set1 = {1, 2, 3}\n",
    "Set1"
   ]
  },
  {
   "cell_type": "code",
   "execution_count": 84,
   "id": "969d0a65",
   "metadata": {},
   "outputs": [
    {
     "data": {
      "text/plain": [
       "{'Farwa'}"
      ]
     },
     "execution_count": 84,
     "metadata": {},
     "output_type": "execute_result"
    }
   ],
   "source": [
    "String = \"Farwa\"\n",
    "Set2 = set([String])\n",
    "Set2 "
   ]
  },
  {
   "cell_type": "code",
   "execution_count": 85,
   "id": "3af56779",
   "metadata": {},
   "outputs": [
    {
     "data": {
      "text/plain": [
       "{('Daniyal', 'Hina', 'Tariq')}"
      ]
     },
     "execution_count": 85,
     "metadata": {},
     "output_type": "execute_result"
    }
   ],
   "source": [
    "set3 = set([Tuple2])\n",
    "set3"
   ]
  },
  {
   "cell_type": "code",
   "execution_count": 89,
   "id": "7ef43a74",
   "metadata": {},
   "outputs": [
    {
     "ename": "TypeError",
     "evalue": "unhashable type: 'list'",
     "output_type": "error",
     "traceback": [
      "\u001b[1;31m---------------------------------------------------------------------------\u001b[0m",
      "\u001b[1;31mTypeError\u001b[0m                                 Traceback (most recent call last)",
      "Cell \u001b[1;32mIn[89], line 2\u001b[0m\n\u001b[0;32m      1\u001b[0m List7 \u001b[38;5;241m=\u001b[39m [\u001b[38;5;124m\"\u001b[39m\u001b[38;5;124mApple\u001b[39m\u001b[38;5;124m\"\u001b[39m, \u001b[38;5;124m\"\u001b[39m\u001b[38;5;124mOrange\u001b[39m\u001b[38;5;124m\"\u001b[39m,\u001b[38;5;124m\"\u001b[39m\u001b[38;5;124mStrawberry\u001b[39m\u001b[38;5;124m\"\u001b[39m]\n\u001b[1;32m----> 2\u001b[0m set4 \u001b[38;5;241m=\u001b[39m \u001b[38;5;28mset\u001b[39m([List7])\n\u001b[0;32m      3\u001b[0m set4\n",
      "\u001b[1;31mTypeError\u001b[0m: unhashable type: 'list'"
     ]
    }
   ],
   "source": [
    "List7 = [\"Apple\", \"Orange\",\"Strawberry\"]\n",
    "set4 = set([List7])\n",
    "set4"
   ]
  },
  {
   "cell_type": "code",
   "execution_count": 91,
   "id": "7da9c12a",
   "metadata": {},
   "outputs": [
    {
     "data": {
      "text/plain": [
       "{1, 2, 3, 4}"
      ]
     },
     "execution_count": 91,
     "metadata": {},
     "output_type": "execute_result"
    }
   ],
   "source": [
    "Set1.add(4)\n",
    "Set1"
   ]
  },
  {
   "cell_type": "code",
   "execution_count": 92,
   "id": "3d7963fb",
   "metadata": {},
   "outputs": [
    {
     "data": {
      "text/plain": [
       "{(5, 6), 1, 2, 3, 4}"
      ]
     },
     "execution_count": 92,
     "metadata": {},
     "output_type": "execute_result"
    }
   ],
   "source": [
    "Set1.add((5,6))\n",
    "Set1"
   ]
  },
  {
   "cell_type": "code",
   "execution_count": 95,
   "id": "0eb6af25",
   "metadata": {},
   "outputs": [
    {
     "data": {
      "text/plain": [
       "{(5, 6), 1, 2, 3, 4, 7, 8}"
      ]
     },
     "execution_count": 95,
     "metadata": {},
     "output_type": "execute_result"
    }
   ],
   "source": [
    "Set1.update([7,8])\n",
    "Set1"
   ]
  },
  {
   "cell_type": "code",
   "execution_count": 97,
   "id": "d3a133f7",
   "metadata": {},
   "outputs": [
    {
     "data": {
      "text/plain": [
       "{(5, 6), 1, 2, 3, 7, 8}"
      ]
     },
     "execution_count": 97,
     "metadata": {},
     "output_type": "execute_result"
    }
   ],
   "source": [
    "Set1.remove(4)\n",
    "Set1"
   ]
  },
  {
   "cell_type": "code",
   "execution_count": 98,
   "id": "81cd5711",
   "metadata": {},
   "outputs": [
    {
     "data": {
      "text/plain": [
       "set()"
      ]
     },
     "execution_count": 98,
     "metadata": {},
     "output_type": "execute_result"
    }
   ],
   "source": [
    "Set1.clear()\n",
    "Set1"
   ]
  },
  {
   "cell_type": "markdown",
   "id": "4b6471e5",
   "metadata": {},
   "source": [
    "# Dictionary"
   ]
  },
  {
   "cell_type": "code",
   "execution_count": 99,
   "id": "2186e1a2",
   "metadata": {},
   "outputs": [
    {
     "data": {
      "text/plain": [
       "{}"
      ]
     },
     "execution_count": 99,
     "metadata": {},
     "output_type": "execute_result"
    }
   ],
   "source": [
    "Dict1 = {}\n",
    "Dict1"
   ]
  },
  {
   "cell_type": "code",
   "execution_count": 100,
   "id": "19c3d24d",
   "metadata": {},
   "outputs": [
    {
     "data": {
      "text/plain": [
       "{1: 'Hina', 2: 'Imran', 3: 'Farhan'}"
      ]
     },
     "execution_count": 100,
     "metadata": {},
     "output_type": "execute_result"
    }
   ],
   "source": [
    "Dict2 = {1: \"Hina\", 2:\"Imran\", 3:\"Farhan\"}\n",
    "Dict2"
   ]
  },
  {
   "cell_type": "code",
   "execution_count": 101,
   "id": "7d6c126c",
   "metadata": {},
   "outputs": [
    {
     "data": {
      "text/plain": [
       "{'Name': 'Farwa',\n",
       " 'Lang': 'Python',\n",
       " 'No of students': 40,\n",
       " 'Student': [1, 2, 3, 4]}"
      ]
     },
     "execution_count": 101,
     "metadata": {},
     "output_type": "execute_result"
    }
   ],
   "source": [
    "Dict3 = {\"Name\":\"Farwa\", \"Lang\":\"Python\",\"No of students\":40, \"Student\": [1,2,3,4]}\n",
    "Dict3"
   ]
  },
  {
   "cell_type": "markdown",
   "id": "6117a4af",
   "metadata": {},
   "source": []
  },
  {
   "cell_type": "code",
   "execution_count": 103,
   "id": "d1953294",
   "metadata": {},
   "outputs": [
    {
     "data": {
      "text/plain": [
       "{'Name': 'Farwa',\n",
       " 'Lang': 'Python',\n",
       " 'No of students': 40,\n",
       " 'Student': [1, 2, 3, 4],\n",
       " 0: 'Faryal',\n",
       " 'Coordinator': 'Faryal'}"
      ]
     },
     "execution_count": 103,
     "metadata": {},
     "output_type": "execute_result"
    }
   ],
   "source": [
    "Dict3[\"Coordinator\"] = \"Faryal\"\n",
    "Dict3"
   ]
  },
  {
   "cell_type": "code",
   "execution_count": 104,
   "id": "bd358bda",
   "metadata": {},
   "outputs": [
    {
     "name": "stdout",
     "output_type": "stream",
     "text": [
      "Farwa\n"
     ]
    }
   ],
   "source": [
    "print(Dict3[\"Name\"])"
   ]
  },
  {
   "cell_type": "code",
   "execution_count": 105,
   "id": "10c65ac9",
   "metadata": {},
   "outputs": [
    {
     "name": "stdout",
     "output_type": "stream",
     "text": [
      "dict_keys(['Name', 'Lang', 'No of students', 'Student', 0, 'Coordinator'])\n"
     ]
    }
   ],
   "source": [
    "print(Dict3.keys())"
   ]
  },
  {
   "cell_type": "code",
   "execution_count": 106,
   "id": "e7a26c46",
   "metadata": {},
   "outputs": [
    {
     "name": "stdout",
     "output_type": "stream",
     "text": [
      "dict_values(['Farwa', 'Python', 40, [1, 2, 3, 4], 'Faryal', 'Faryal'])\n"
     ]
    }
   ],
   "source": [
    "print(Dict3.values())"
   ]
  },
  {
   "cell_type": "code",
   "execution_count": 107,
   "id": "7cf99016",
   "metadata": {},
   "outputs": [
    {
     "name": "stdout",
     "output_type": "stream",
     "text": [
      "dict_items([('Name', 'Farwa'), ('Lang', 'Python'), ('No of students', 40), ('Student', [1, 2, 3, 4]), (0, 'Faryal'), ('Coordinator', 'Faryal')])\n"
     ]
    }
   ],
   "source": [
    "print(Dict3.items())"
   ]
  },
  {
   "cell_type": "code",
   "execution_count": 109,
   "id": "31f78d26",
   "metadata": {},
   "outputs": [
    {
     "data": {
      "text/plain": [
       "{'Name': 'Farwa',\n",
       " 'Lang': 'Python',\n",
       " 'No of students': 40,\n",
       " 'Student': [1, 2, 3, 4],\n",
       " 0: 'Faryal',\n",
       " 'Coordinator': 'Faryal'}"
      ]
     },
     "execution_count": 109,
     "metadata": {},
     "output_type": "execute_result"
    }
   ],
   "source": [
    "dict4 = Dict3.copy()\n",
    "dict4"
   ]
  },
  {
   "cell_type": "code",
   "execution_count": null,
   "id": "509017d7",
   "metadata": {},
   "outputs": [],
   "source": []
  }
 ],
 "metadata": {
  "kernelspec": {
   "display_name": "Python 3 (ipykernel)",
   "language": "python",
   "name": "python3"
  },
  "language_info": {
   "codemirror_mode": {
    "name": "ipython",
    "version": 3
   },
   "file_extension": ".py",
   "mimetype": "text/x-python",
   "name": "python",
   "nbconvert_exporter": "python",
   "pygments_lexer": "ipython3",
   "version": "3.11.5"
  }
 },
 "nbformat": 4,
 "nbformat_minor": 5
}
