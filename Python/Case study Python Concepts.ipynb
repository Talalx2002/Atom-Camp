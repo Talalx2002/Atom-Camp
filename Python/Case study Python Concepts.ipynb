{
 "cells": [
  {
   "cell_type": "markdown",
   "id": "79c401db",
   "metadata": {},
   "source": [
    "# Case Study: Analyzing Sales Data with Python  "
   ]
  },
  {
   "cell_type": "markdown",
   "id": "c9f37eac",
   "metadata": {},
   "source": [
    "Problem Statement: You work for a retail company that sells electronic gadgets. Your task is to analyze the sales data for the past month to identify the top-selling products and calculate the total revenue generated. The sales data is stored in a Python dictionary where the keys represent the product names, and the values represent the quantity sold and the price per unit.  "
   ]
  },
  {
   "cell_type": "code",
   "execution_count": 1,
   "id": "5c700925",
   "metadata": {},
   "outputs": [],
   "source": [
    "sales_data = {  \n",
    "\n",
    "    'Laptop': {'quantity': 50, 'price_per_unit': 800},  \n",
    "\n",
    "    'Smartphone': {'quantity': 100, 'price_per_unit': 600},  \n",
    "\n",
    "    'Tablet': {'quantity': 80, 'price_per_unit': 400},  \n",
    "\n",
    "    'Headphones': {'quantity': 120, 'price_per_unit': 100},  \n",
    "\n",
    "    'Smartwatch': {'quantity': 70, 'price_per_unit': 300}  \n",
    "\n",
    "}  "
   ]
  },
  {
   "cell_type": "markdown",
   "id": "c544e65a",
   "metadata": {},
   "source": [
    "Question-1 Which product generates the highest revenue? "
   ]
  },
  {
   "cell_type": "code",
   "execution_count": 4,
   "id": "c83d5afd",
   "metadata": {},
   "outputs": [
    {
     "name": "stdout",
     "output_type": "stream",
     "text": [
      "Product generating the highest revenue: Smartphone\n"
     ]
    }
   ],
   "source": [
    "max_revenue_product = max(sales_data, key=lambda x: sales_data[x]['quantity'] * sales_data[x]['price_per_unit'])\n",
    "\n",
    "print(\"Product generating the highest revenue:\", max_revenue_product)  "
   ]
  },
  {
   "cell_type": "markdown",
   "id": "69d2f4e3",
   "metadata": {},
   "source": [
    "Question-2 How many products have a quantity sold greater than 75? "
   ]
  },
  {
   "cell_type": "code",
   "execution_count": 5,
   "id": "aa51c29e",
   "metadata": {},
   "outputs": [
    {
     "name": "stdout",
     "output_type": "stream",
     "text": [
      "Number of products with quantity sold greater than 75: 3\n"
     ]
    }
   ],
   "source": [
    "count_products = sum(1 for product in sales_data.values() if product['quantity'] > 75)  \n",
    "\n",
    "   \n",
    "\n",
    "print(\"Number of products with quantity sold greater than 75:\", count_products)  "
   ]
  },
  {
   "cell_type": "markdown",
   "id": "f5ebf4ef",
   "metadata": {},
   "source": [
    "Question-3 What is the total revenue generated from products priced above $500? "
   ]
  },
  {
   "cell_type": "code",
   "execution_count": 6,
   "id": "da6bfb7c",
   "metadata": {},
   "outputs": [
    {
     "name": "stdout",
     "output_type": "stream",
     "text": [
      "Total revenue from products priced above $500: 100000\n"
     ]
    }
   ],
   "source": [
    "total_revenue_above_500 = sum(product['quantity'] * product['price_per_unit'] for product in sales_data.values() if product['price_per_unit'] > 500)  \n",
    "\n",
    " \n",
    "\n",
    "print(\"Total revenue from products priced above $500:\", total_revenue_above_500) "
   ]
  },
  {
   "cell_type": "markdown",
   "id": "effcff72",
   "metadata": {},
   "source": [
    "Questions-4 Which product has the highest price per unit? "
   ]
  },
  {
   "cell_type": "code",
   "execution_count": 7,
   "id": "bc54b268",
   "metadata": {},
   "outputs": [
    {
     "name": "stdout",
     "output_type": "stream",
     "text": [
      "Product with the highest price per unit: Laptop\n"
     ]
    }
   ],
   "source": [
    "max_price_product = max(sales_data, key=lambda x: sales_data[x]['price_per_unit'])  \n",
    " \n",
    "\n",
    "print(\"Product with the highest price per unit:\", max_price_product)  "
   ]
  },
  {
   "cell_type": "markdown",
   "id": "9bd1399d",
   "metadata": {},
   "source": [
    "Question-5 What is the average quantity sold per product? "
   ]
  },
  {
   "cell_type": "code",
   "execution_count": 8,
   "id": "b5d822ec",
   "metadata": {},
   "outputs": [
    {
     "name": "stdout",
     "output_type": "stream",
     "text": [
      "Average quantity sold per product: 84.0\n"
     ]
    }
   ],
   "source": [
    "average_quantity_sold = sum(product['quantity'] for product in sales_data.values()) / len(sales_data)  \n",
    "\n",
    "\n",
    "print(\"Average quantity sold per product:\", average_quantity_sold)  "
   ]
  },
  {
   "cell_type": "markdown",
   "id": "1fd592bd",
   "metadata": {},
   "source": [
    " Question-6 What is the total revenue generated from the sales data?"
   ]
  },
  {
   "cell_type": "code",
   "execution_count": 9,
   "id": "d712b925",
   "metadata": {},
   "outputs": [
    {
     "name": "stdout",
     "output_type": "stream",
     "text": [
      "Total revenue generated: 165000\n"
     ]
    }
   ],
   "source": [
    "def calculate_total_revenue(data):  \n",
    "\n",
    "    total_revenue = 0  \n",
    "\n",
    "    for product, values in data.items():  \n",
    "\n",
    "        total_revenue += values['quantity'] * values['price_per_unit']  \n",
    "\n",
    "    return total_revenue  \n",
    "\n",
    "   \n",
    "\n",
    "total_revenue = calculate_total_revenue(sales_data)  \n",
    "\n",
    "print(\"Total revenue generated:\", total_revenue) "
   ]
  },
  {
   "cell_type": "markdown",
   "id": "56424318",
   "metadata": {},
   "source": [
    "Question-7 Print the details of each product in the sales data. "
   ]
  },
  {
   "cell_type": "code",
   "execution_count": 10,
   "id": "192845fb",
   "metadata": {},
   "outputs": [
    {
     "name": "stdout",
     "output_type": "stream",
     "text": [
      "Product: Laptop\n",
      "Quantity: 50\n",
      "Price per unit: 800\n",
      "\n",
      "Product: Smartphone\n",
      "Quantity: 100\n",
      "Price per unit: 600\n",
      "\n",
      "Product: Tablet\n",
      "Quantity: 80\n",
      "Price per unit: 400\n",
      "\n",
      "Product: Headphones\n",
      "Quantity: 120\n",
      "Price per unit: 100\n",
      "\n",
      "Product: Smartwatch\n",
      "Quantity: 70\n",
      "Price per unit: 300\n",
      "\n"
     ]
    }
   ],
   "source": [
    "def print_product_details(data):  \n",
    "\n",
    "    for product, details in data.items():  \n",
    "\n",
    "        print(\"Product:\", product)  \n",
    "\n",
    "        print(\"Quantity:\", details['quantity'])  \n",
    "\n",
    "        print(\"Price per unit:\", details['price_per_unit'])  \n",
    "\n",
    "        print()  \n",
    "\n",
    "   \n",
    "\n",
    "print_product_details(sales_data)  "
   ]
  },
  {
   "cell_type": "markdown",
   "id": "ffcb85ce",
   "metadata": {},
   "source": [
    "Question-8 Find and print products with a quantity sold greater than 75. "
   ]
  },
  {
   "cell_type": "code",
   "execution_count": 12,
   "id": "5200d7d3",
   "metadata": {},
   "outputs": [
    {
     "name": "stdout",
     "output_type": "stream",
     "text": [
      "Smartphone\n",
      "Tablet\n",
      "Headphones\n"
     ]
    }
   ],
   "source": [
    "def find_products_with_quantity_above(data, threshold):  \n",
    "\n",
    "    for product, details in data.items():  \n",
    "\n",
    "        if details['quantity'] > threshold:  \n",
    "\n",
    "            print(product)  \n",
    "\n",
    "   \n",
    "\n",
    "find_products_with_quantity_above(sales_data, 75)  "
   ]
  },
  {
   "cell_type": "markdown",
   "id": "c5d4abb1",
   "metadata": {},
   "source": [
    "Question-9 Calculate the total revenue generated from products with a price per unit less than $500. "
   ]
  },
  {
   "cell_type": "code",
   "execution_count": 14,
   "id": "91e74f33",
   "metadata": {},
   "outputs": [
    {
     "name": "stdout",
     "output_type": "stream",
     "text": [
      "Total revenue generated from products with price per unit less than $500: 65000\n"
     ]
    }
   ],
   "source": [
    "  def calculate_revenue_below_threshold(data, threshold):  \n",
    "\n",
    "    total_revenue = 0  \n",
    "\n",
    "    for product, details in data.items():  \n",
    "\n",
    "        if details['price_per_unit'] < threshold:  \n",
    "\n",
    "            total_revenue += details['quantity'] * details['price_per_unit']  \n",
    "\n",
    "    return total_revenue  \n",
    "\n",
    "   \n",
    "\n",
    "revenue_below_500 = calculate_revenue_below_threshold(sales_data, 500)  \n",
    "\n",
    "print(\"Total revenue generated from products with price per unit less than $500:\", revenue_below_500)  "
   ]
  },
  {
   "cell_type": "markdown",
   "id": "9b3fc9eb",
   "metadata": {},
   "source": [
    "Question-10 Find the product with the highest revenue and its details. "
   ]
  },
  {
   "cell_type": "code",
   "execution_count": 27,
   "id": "ba53eebf",
   "metadata": {},
   "outputs": [
    {
     "name": "stdout",
     "output_type": "stream",
     "text": [
      "Product with the highest revenue: Smartphone\n",
      "Revenue: 60000\n"
     ]
    }
   ],
   "source": [
    "def find_product_with_highest_revenue(data):\n",
    "    max_revenue = 0\n",
    "    top_product = ''\n",
    "\n",
    "    for product, details in data.items():\n",
    "        revenue = details['quantity'] * details['price_per_unit']\n",
    "        if revenue > max_revenue:\n",
    "            max_revenue = revenue\n",
    "            top_product = product\n",
    "\n",
    "    return top_product, max_revenue\n",
    "\n",
    "top_product, max_revenue = find_product_with_highest_revenue(sales_data)\n",
    "\n",
    "print(\"Product with the highest revenue:\", top_product)\n",
    "print(\"Revenue:\", max_revenue)\n",
    "  "
   ]
  },
  {
   "cell_type": "markdown",
   "id": "65111675",
   "metadata": {},
   "source": [
    "Question 11 Calculate total quantity sold and revenue."
   ]
  },
  {
   "cell_type": "code",
   "execution_count": 28,
   "id": "7315fd21",
   "metadata": {},
   "outputs": [
    {
     "name": "stdout",
     "output_type": "stream",
     "text": [
      "Total quantity sold: 420\n",
      "Total revenue generated: 165000\n",
      "Products sold: ['Laptop', 'Smartphone', 'Tablet', 'Headphones', 'Smartwatch']\n"
     ]
    }
   ],
   "source": [
    "total_quantity_sold = 0\n",
    "total_revenue = 0\n",
    "products_sold = []\n",
    "\n",
    "\n",
    "index = 0\n",
    "while index < len(sales_data):\n",
    "    product = list(sales_data.keys())[index]\n",
    "    quantity_sold = sales_data[product]['quantity']\n",
    "    price_per_unit = sales_data[product]['price_per_unit']\n",
    "    \n",
    "   \n",
    "    total_quantity_sold += quantity_sold\n",
    "    total_revenue += quantity_sold * price_per_unit\n",
    "    \n",
    "   \n",
    "    products_sold.append(product)\n",
    "    \n",
    "    \n",
    "    index += 1\n",
    "\n",
    "\n",
    "print(\"Total quantity sold:\", total_quantity_sold)\n",
    "print(\"Total revenue generated:\", total_revenue)\n",
    "print(\"Products sold:\", products_sold)\n"
   ]
  },
  {
   "cell_type": "code",
   "execution_count": null,
   "id": "55222461",
   "metadata": {},
   "outputs": [],
   "source": []
  }
 ],
 "metadata": {
  "kernelspec": {
   "display_name": "Python 3 (ipykernel)",
   "language": "python",
   "name": "python3"
  },
  "language_info": {
   "codemirror_mode": {
    "name": "ipython",
    "version": 3
   },
   "file_extension": ".py",
   "mimetype": "text/x-python",
   "name": "python",
   "nbconvert_exporter": "python",
   "pygments_lexer": "ipython3",
   "version": "3.11.3"
  }
 },
 "nbformat": 4,
 "nbformat_minor": 5
}
