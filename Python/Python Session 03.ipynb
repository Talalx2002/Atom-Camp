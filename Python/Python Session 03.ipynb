{
 "cells": [
  {
   "cell_type": "markdown",
   "id": "3e12945d",
   "metadata": {},
   "source": [
    "A for loop is used for iterating over a sequence (that is either a list, a tuple, a dictionary, a set, or a string).\n",
    "\n",
    "\n",
    "With the for loop we can execute a set of statements, once for each item in a list, tuple, set etc."
   ]
  },
  {
   "cell_type": "code",
   "execution_count": 2,
   "id": "c60ce84b",
   "metadata": {},
   "outputs": [],
   "source": [
    "# for variable in iterable:\n",
    "    #action to repeat"
   ]
  },
  {
   "cell_type": "code",
   "execution_count": 4,
   "id": "63bc52a1",
   "metadata": {},
   "outputs": [
    {
     "name": "stdout",
     "output_type": "stream",
     "text": [
      "H\n",
      "e\n",
      "l\n",
      "l\n",
      "o\n"
     ]
    }
   ],
   "source": [
    "# string\n",
    "greeting = \"Hello\"\n",
    "for n in greeting:\n",
    "    print(n)"
   ]
  },
  {
   "cell_type": "code",
   "execution_count": 6,
   "id": "ac96f313",
   "metadata": {},
   "outputs": [
    {
     "name": "stdout",
     "output_type": "stream",
     "text": [
      "Apple\n",
      "Banana\n",
      "Orange\n"
     ]
    }
   ],
   "source": [
    "#List\n",
    "fruits = [\"Apple\", \"Banana\", \"Orange\"]\n",
    "for f in fruits:\n",
    "    print(f)"
   ]
  },
  {
   "cell_type": "code",
   "execution_count": 7,
   "id": "6449ad78",
   "metadata": {},
   "outputs": [
    {
     "name": "stdout",
     "output_type": "stream",
     "text": [
      "Red\n",
      "Blue\n",
      "Yellow\n"
     ]
    }
   ],
   "source": [
    "# Tuple\n",
    "colors = (\"Red\", \"Blue\", \"Yellow\")\n",
    "for c in colors:\n",
    "    print(c)"
   ]
  },
  {
   "cell_type": "code",
   "execution_count": 8,
   "id": "9d0233ac",
   "metadata": {},
   "outputs": [
    {
     "name": "stdout",
     "output_type": "stream",
     "text": [
      "Blue\n",
      "Yellow\n",
      "Red\n"
     ]
    }
   ],
   "source": [
    "#Set\n",
    "colors = {\"Red\", \"Blue\", \"Yellow\"}\n",
    "for c in colors:\n",
    "    print(c)"
   ]
  },
  {
   "cell_type": "code",
   "execution_count": 11,
   "id": "e3e5474f",
   "metadata": {},
   "outputs": [
    {
     "name": "stdout",
     "output_type": "stream",
     "text": [
      "1\n",
      "2\n",
      "3\n",
      "4\n",
      "5\n"
     ]
    }
   ],
   "source": [
    "for i in range(5):\n",
    "    print(i+1)"
   ]
  },
  {
   "cell_type": "code",
   "execution_count": 12,
   "id": "ca61f5f0",
   "metadata": {},
   "outputs": [
    {
     "name": "stdout",
     "output_type": "stream",
     "text": [
      "3\n",
      "4\n",
      "5\n",
      "6\n",
      "7\n",
      "8\n",
      "9\n"
     ]
    }
   ],
   "source": [
    "for i in range(3,10):\n",
    "    print(i)"
   ]
  },
  {
   "cell_type": "code",
   "execution_count": 13,
   "id": "59fbfe5a",
   "metadata": {},
   "outputs": [
    {
     "name": "stdout",
     "output_type": "stream",
     "text": [
      "3\n",
      "5\n",
      "7\n",
      "9\n"
     ]
    }
   ],
   "source": [
    "for i in range(3,10,2):\n",
    "    print(i)"
   ]
  },
  {
   "cell_type": "code",
   "execution_count": 14,
   "id": "5802537e",
   "metadata": {},
   "outputs": [
    {
     "name": "stdout",
     "output_type": "stream",
     "text": [
      "1\n",
      "2\n",
      "3\n",
      "4\n",
      "5\n"
     ]
    }
   ],
   "source": [
    "numbers = [1,2,3,4,5]\n",
    "for num in numbers:\n",
    "    print(num)"
   ]
  },
  {
   "cell_type": "code",
   "execution_count": 15,
   "id": "1d016556",
   "metadata": {},
   "outputs": [
    {
     "name": "stdout",
     "output_type": "stream",
     "text": [
      "Total sum: 15\n"
     ]
    }
   ],
   "source": [
    "#Sum of list\n",
    "numbers = [1,2,3,4,5]\n",
    "total = 1\n",
    "for num in numbers:\n",
    "    total+=num \n",
    "print(\"Total sum:\", total)"
   ]
  },
  {
   "cell_type": "code",
   "execution_count": 16,
   "id": "7212edb8",
   "metadata": {},
   "outputs": [
    {
     "name": "stdout",
     "output_type": "stream",
     "text": [
      "2\n",
      "4\n"
     ]
    }
   ],
   "source": [
    "#Use the same list and find the even numbers in this list \n",
    "numbers = [1, 2, 3, 4, 5]\n",
    "for num in numbers:\n",
    "    if num % 2 == 0:\n",
    "        print(num)\n"
   ]
  },
  {
   "cell_type": "code",
   "execution_count": 17,
   "id": "fb603b98",
   "metadata": {},
   "outputs": [
    {
     "data": {
      "text/plain": [
       "[1, 2, 3, 4, 5, 6]"
      ]
     },
     "execution_count": 17,
     "metadata": {},
     "output_type": "execute_result"
    }
   ],
   "source": [
    "list1 =  [1, 2, 3]\n",
    "list2 =  [4, 5, 6]\n",
    "add = list1 + list2\n",
    "add"
   ]
  },
  {
   "cell_type": "code",
   "execution_count": 18,
   "id": "d2684f73",
   "metadata": {},
   "outputs": [
    {
     "name": "stdout",
     "output_type": "stream",
     "text": [
      "1\n",
      "2\n",
      "3\n",
      "4\n",
      "5\n",
      "6\n"
     ]
    }
   ],
   "source": [
    "for item in add:\n",
    "    print(item)"
   ]
  },
  {
   "cell_type": "code",
   "execution_count": 20,
   "id": "bcfdcef9",
   "metadata": {},
   "outputs": [
    {
     "name": "stdout",
     "output_type": "stream",
     "text": [
      "Red Apple\n",
      "Red Banana\n",
      "Red Orange\n",
      "big Apple\n",
      "big Banana\n",
      "big Orange\n",
      "Tasty Apple\n",
      "Tasty Banana\n",
      "Tasty Orange\n"
     ]
    }
   ],
   "source": [
    "# Nested loop\n",
    "adj = [\"Red\", \"big\", \"Tasty\"]\n",
    "fruits = [\"Apple\", \"Banana\", \"Orange\"]\n",
    "for x in adj: \n",
    "    for y in fruits:\n",
    "        print(x,y)"
   ]
  },
  {
   "cell_type": "code",
   "execution_count": 23,
   "id": "d4bd0d19",
   "metadata": {},
   "outputs": [
    {
     "name": "stdout",
     "output_type": "stream",
     "text": [
      "1\n",
      "2\n",
      "3\n",
      "4\n",
      "5\n",
      "6\n",
      "7\n",
      "8\n",
      "9\n"
     ]
    }
   ],
   "source": [
    "matrix = [[1,2,3],\n",
    "          [4,5,6],\n",
    "          [7,8,9]]\n",
    "for row in matrix:\n",
    "    for item in row:\n",
    "        print(item)"
   ]
  },
  {
   "cell_type": "code",
   "execution_count": 24,
   "id": "fc707a0f",
   "metadata": {},
   "outputs": [
    {
     "name": "stdout",
     "output_type": "stream",
     "text": [
      "[1, 2, 3]\n",
      "[1, 2, 3]\n",
      "[1, 2, 3]\n",
      "[4, 5, 6]\n",
      "[4, 5, 6]\n",
      "[4, 5, 6]\n",
      "[7, 8, 9]\n",
      "[7, 8, 9]\n",
      "[7, 8, 9]\n"
     ]
    }
   ],
   "source": [
    "matrix = [[1,2,3],\n",
    "          [4,5,6],\n",
    "          [7,8,9]]\n",
    "for row in matrix:\n",
    "    for item in row:\n",
    "        print(row)"
   ]
  },
  {
   "cell_type": "code",
   "execution_count": 26,
   "id": "8f403f74",
   "metadata": {},
   "outputs": [
    {
     "name": "stdout",
     "output_type": "stream",
     "text": [
      "Index:0, Fruit:Apple\n",
      "Index:1, Fruit:Banana\n",
      "Index:2, Fruit:Orange\n"
     ]
    }
   ],
   "source": [
    "#enumerate\n",
    "fruits = [\"Apple\", \"Banana\", \"Orange\"]\n",
    "for index, f in enumerate(fruits):\n",
    "    print(f\"Index:{index}, Fruit:{f}\")"
   ]
  },
  {
   "cell_type": "code",
   "execution_count": 31,
   "id": "042bb815",
   "metadata": {},
   "outputs": [
    {
     "name": "stdout",
     "output_type": "stream",
     "text": [
      "First negative number found: -3\n"
     ]
    }
   ],
   "source": [
    "#Break\n",
    "numbers = [6,9,-3,0,1,-7,9]\n",
    "for n in numbers:\n",
    "    if n<0:\n",
    "        print(f\"First negative number found: {n}\")\n",
    "        break #Exit the loop"
   ]
  },
  {
   "cell_type": "code",
   "execution_count": 33,
   "id": "4d08f116",
   "metadata": {},
   "outputs": [
    {
     "name": "stdout",
     "output_type": "stream",
     "text": [
      "First negative number found: -3\n",
      "First negative number found: -7\n"
     ]
    }
   ],
   "source": [
    "#Continue\n",
    "numbers = [6,9,-3,0,1,-7,9]\n",
    "for n in numbers:\n",
    "    if n<0:\n",
    "        print(f\"First negative number found: {n}\")"
   ]
  },
  {
   "cell_type": "code",
   "execution_count": 35,
   "id": "9243fd33",
   "metadata": {},
   "outputs": [
    {
     "name": "stdout",
     "output_type": "stream",
     "text": [
      "Odd number: 1\n",
      "Odd number: 3\n",
      "Odd number: 5\n",
      "Odd number: 7\n",
      "Odd number: 9\n"
     ]
    }
   ],
   "source": [
    "numbers = [1,2,3,4,5,6,7,8,9,10]\n",
    "for num in numbers:\n",
    "    if num % 2 == 0:\n",
    "        continue  #skip this iteration\n",
    "    print(f\"Odd number: {num}\")"
   ]
  },
  {
   "cell_type": "code",
   "execution_count": 37,
   "id": "35edc9f5",
   "metadata": {},
   "outputs": [
    {
     "name": "stdout",
     "output_type": "stream",
     "text": [
      "Total bananas: 3\n"
     ]
    }
   ],
   "source": [
    "fruits = [\"Apple\", \"Banana\", \"Orange\",\"Banana\",\"Cherry\",\"Banana\"]\n",
    "banana_count = 0\n",
    "for f in fruits:\n",
    "    if f == \"Banana\":\n",
    "        banana_count += 1\n",
    "print(\"Total bananas:\", banana_count)        "
   ]
  },
  {
   "cell_type": "code",
   "execution_count": 41,
   "id": "55239bb6",
   "metadata": {},
   "outputs": [
    {
     "name": "stdout",
     "output_type": "stream",
     "text": [
      "Noor\n",
      "KP\n",
      "20\n"
     ]
    }
   ],
   "source": [
    "#Dictionary\n",
    "thisdict = {\"Name\": \"Noor\",\"City\": \"KP\", \"age\":20}\n",
    "for x in thisdict:\n",
    "    print(thisdict[x])"
   ]
  },
  {
   "cell_type": "code",
   "execution_count": 42,
   "id": "a51c3520",
   "metadata": {},
   "outputs": [
    {
     "name": "stdout",
     "output_type": "stream",
     "text": [
      "Noor\n",
      "KP\n",
      "20\n"
     ]
    }
   ],
   "source": [
    "for x in thisdict.values():\n",
    "    print(x)"
   ]
  },
  {
   "cell_type": "code",
   "execution_count": 43,
   "id": "7e965c6d",
   "metadata": {},
   "outputs": [
    {
     "name": "stdout",
     "output_type": "stream",
     "text": [
      "Name\n",
      "City\n",
      "age\n"
     ]
    }
   ],
   "source": [
    "for x in thisdict.keys():\n",
    "    print(x)"
   ]
  },
  {
   "cell_type": "code",
   "execution_count": 44,
   "id": "287069be",
   "metadata": {},
   "outputs": [
    {
     "name": "stdout",
     "output_type": "stream",
     "text": [
      "Name Noor\n",
      "City KP\n",
      "age 20\n"
     ]
    }
   ],
   "source": [
    "for x,y in thisdict.items():\n",
    "    print(x,y)"
   ]
  },
  {
   "cell_type": "code",
   "execution_count": 46,
   "id": "0367f6fc",
   "metadata": {},
   "outputs": [
    {
     "name": "stdout",
     "output_type": "stream",
     "text": [
      "The capital of USA is Washington\n",
      "The capital of France is Paris\n",
      "The capital of Italy is Rome\n"
     ]
    }
   ],
   "source": [
    "capitals = {\"USA\": \"Washington\",\"France\": \"Paris\", \"Italy\":\"Rome\"}\n",
    "for country,capital in capitals.items():\n",
    "    print(f\"The capital of {country} is {capital}\")"
   ]
  },
  {
   "cell_type": "code",
   "execution_count": 47,
   "id": "e0d3361a",
   "metadata": {},
   "outputs": [
    {
     "name": "stdout",
     "output_type": "stream",
     "text": [
      "Even numbers: [2, 4, 6, 8, 10]\n"
     ]
    }
   ],
   "source": [
    "numbers = [1,2,3,4,5,6,7,8,9,10]\n",
    "even_num = []\n",
    "for num in numbers:\n",
    "    if num % 2 == 0:\n",
    "        even_num.append(num)\n",
    "print(\"Even numbers:\",even_num)"
   ]
  },
  {
   "cell_type": "code",
   "execution_count": 49,
   "id": "93a2acd8",
   "metadata": {},
   "outputs": [
    {
     "name": "stdout",
     "output_type": "stream",
     "text": [
      "[2, 4, 6, 8, 10]\n"
     ]
    }
   ],
   "source": [
    "#Modifying elements in the list\n",
    "numbers = [1,2,3,4,5]\n",
    "for i in range(len(numbers)):\n",
    "    numbers[i] = numbers[i] * 2\n",
    "print(numbers)"
   ]
  },
  {
   "cell_type": "code",
   "execution_count": 50,
   "id": "aa7b8ae6",
   "metadata": {},
   "outputs": [
    {
     "name": "stdout",
     "output_type": "stream",
     "text": [
      "{1, 2, 3, 4, 5, 6}\n"
     ]
    }
   ],
   "source": [
    "#Adding elements in set\n",
    "unique_num = {1,2,3}\n",
    "for i in range(4,7):\n",
    "    unique_num.add(i)\n",
    "print(unique_num)"
   ]
  },
  {
   "cell_type": "code",
   "execution_count": 51,
   "id": "a9a82488",
   "metadata": {},
   "outputs": [
    {
     "name": "stdout",
     "output_type": "stream",
     "text": [
      "The average is: 6.0\n"
     ]
    }
   ],
   "source": [
    "# Calculate the average of a list\n",
    "numbers = [2,4,6,8,10]\n",
    "total_sum = 0\n",
    "\n",
    "for n in numbers:\n",
    "    total_sum += n\n",
    "average = total_sum / len(numbers)\n",
    "print(\"The average is:\", average)"
   ]
  },
  {
   "cell_type": "code",
   "execution_count": 54,
   "id": "c464d89a",
   "metadata": {},
   "outputs": [
    {
     "name": "stdout",
     "output_type": "stream",
     "text": [
      "Filtered ages: [27, 30, 20, 26]\n"
     ]
    }
   ],
   "source": [
    "data = [74, 38, 27, 49, 38, 30, 38, 20, 26]\n",
    "age_limit = 30\n",
    "filtered_data = []\n",
    "\n",
    "for age in data:\n",
    "    if age <= age_limit:\n",
    "        filtered_data.append(age)\n",
    "        \n",
    "print(\"Filtered ages:\", filtered_data)\n",
    "        "
   ]
  },
  {
   "cell_type": "code",
   "execution_count": null,
   "id": "94308100",
   "metadata": {},
   "outputs": [],
   "source": []
  }
 ],
 "metadata": {
  "kernelspec": {
   "display_name": "Python 3 (ipykernel)",
   "language": "python",
   "name": "python3"
  },
  "language_info": {
   "codemirror_mode": {
    "name": "ipython",
    "version": 3
   },
   "file_extension": ".py",
   "mimetype": "text/x-python",
   "name": "python",
   "nbconvert_exporter": "python",
   "pygments_lexer": "ipython3",
   "version": "3.11.5"
  }
 },
 "nbformat": 4,
 "nbformat_minor": 5
}
