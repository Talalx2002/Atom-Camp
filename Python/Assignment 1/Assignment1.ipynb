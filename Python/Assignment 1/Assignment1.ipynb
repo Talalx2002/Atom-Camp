{
 "cells": [
  {
   "cell_type": "code",
   "execution_count": 1,
   "metadata": {},
   "outputs": [
    {
     "name": "stdout",
     "output_type": "stream",
     "text": [
      "46\n",
      "Talal smith\n",
      "False\n"
     ]
    }
   ],
   "source": [
    "#Task 1\n",
    "\n",
    "\n",
    "# a) Create three variables: one for storing your age (integer), one for your name (string), and one\n",
    "# to check if you are a student (Boolean). Print the variables.\n",
    "\n",
    "a= 21   \n",
    "name = 'Talal'\n",
    "student = True  \n",
    "\n",
    "print(a)\n",
    "print(name)\n",
    "print(student)\n",
    "\n",
    "# b) Perform the following operations and print the results: - Add 25 to your age variable. -\n",
    "# Concatenate your name with the string \"Smith.\" - Negate the Boolean variable (if True, make it\n",
    "# False, and vice versa).\n",
    "\n",
    "print(a+25)  \n",
    "print(name + \" \" + \"smith\")\n",
    "print(not student)"
   ]
  },
  {
   "cell_type": "code",
   "execution_count": 4,
   "metadata": {},
   "outputs": [
    {
     "name": "stdout",
     "output_type": "stream",
     "text": [
      "41\n",
      "True\n",
      "Python is a versatile programming language\n",
      "['Python', 'is', 'a', 'powerful', 'programming', 'language']\n"
     ]
    }
   ],
   "source": [
    "#Task 2\n",
    "\n",
    "# a) Create a string variable called \"sentence\" containing the sentence \"Python is a powerful\n",
    "# programming language.\" Print the sentence.\n",
    "\n",
    "sentence = \"Python is a powerful programming language\"\n",
    "\n",
    "# b) Count the number of characters in the \"sentence\" and print the result.\n",
    "\n",
    "print(len(sentence))\n",
    "\n",
    "# c) Check if the word \"Python\" is present in the \"sentence\" and print the result (True/False).\n",
    "\n",
    "print(\"Python\" in sentence)\n",
    "\n",
    "# d) Replace the word \"powerful\" with \"versatile\" in the \"sentence\" and print the updated sentence.\n",
    "    \n",
    "print(sentence.replace(\"powerful\", \"versatile\"))\n",
    "\n",
    "# e) Split the \"sentence\" into a list of words and print the list.\n",
    "\n",
    "print(sentence.split(\" \"))"
   ]
  },
  {
   "cell_type": "code",
   "execution_count": 6,
   "metadata": {},
   "outputs": [
    {
     "name": "stdout",
     "output_type": "stream",
     "text": [
      "Area of triangle: 17.875\n",
      "86.0\n",
      "Area of Circle: 78.53975\n"
     ]
    }
   ],
   "source": [
    "# Task 3\n",
    "\n",
    "# a) A rectangle has a width of 5.5 units and a height of 3.25 units. Store width and height in\n",
    "# variables. Create a new variable called area and write an expression to calculate the area. Print\n",
    "# the area in the output.\n",
    "\n",
    "width , height = 5.5 , 3.25\n",
    "area = width * height\n",
    "print(\"Area of triangle: \" + str(area))\n",
    "\n",
    "# b) Create a temperature variable in Celsius. Convert it to Fahrenheit using the formula: F = (C *\n",
    "# 9/5) + 32. Store this temperature in a variable called Fahrenheit and print this variable. a) Create\n",
    "# a variable called radius and give it a value of 5. Calculate the area of a circle with this radius\n",
    "# and store it in a variable called area. Print area at the end of your code. (Use the formula: area =\n",
    "# π * radius^2, where π (pi) is approximately 3.14159).\n",
    "\n",
    "temperature_in_celsius = 30\n",
    "temperature_in_Fahrenheit = (temperature_in_celsius * 9/5) + 32\n",
    "print(str(temperature_in_Fahrenheit))   \n",
    "\n",
    "radius = 5\n",
    "area = 3.14159 * radius**2\n",
    "print(\"Area of Circle: \" + str(area))"
   ]
  },
  {
   "cell_type": "code",
   "execution_count": null,
   "metadata": {},
   "outputs": [],
   "source": [
    "# Task 4\n",
    "\n",
    "# a) Create a list called \"fruits\" containing the following fruits: \"apple,\" \"banana,\" \"orange,\" \"grape,\" and \"kiwi.\" Print the list.\n",
    "\n",
    "fruits = [\"apple\", \"banana\", \"orange\", \"grape\", \"kiwi\"]\n",
    "\n",
    "print (fruits)\n",
    "\n",
    "# b) Create another list called \"vegetables\" containing the following vegetables: \"carrot,\" \"lettuce,\" \"tomato,\" \"broccoli,\" and \"spinach.\" Print the list.\n",
    "\n",
    "vegetables = [\"carrot\", \"lettuce\", \"tomato\", \"broccoli\", \"spinach\"]\n",
    "\n",
    "print (vegetables)\n",
    "\n",
    "# c) Create a new list called \"groceries\" by combining the \"fruits\" and \"vegetables\" lists. Print the new list.\n",
    "\n",
    "groceries = fruits + vegetables\n",
    "\n",
    "# d) Sort the \"groceries\" list in alphabetical order and print it.\n",
    "\n",
    "groceries.sort()\n",
    "\n",
    "# e) Remove the \"banana\" from the \"fruits\" list and print the updated \"fruits\" list\n",
    "\n",
    "fruits.remove(\"banana\")\n"
   ]
  },
  {
   "cell_type": "code",
   "execution_count": null,
   "metadata": {},
   "outputs": [],
   "source": [
    "# Task 5\n",
    "\n",
    "# a) Create a tuple named \"colors\" with the names of three colors of your choice. Print the tuple.\n",
    "colors = (\"red\", \"blue\", \"green\")\n",
    "print(colors)\n",
    "\n",
    "# b) Access the second element of the \"colors\" tuple and print it.\n",
    "\n",
    "print(colors[1])\n",
    "\n",
    "# c) Concatenate the \"months\" tuple with the \"colors\" tuple and store the result in a new tuple called \"combined_tuple\". Print the \"combined_tuple\".\n",
    "\n",
    "months = (\"January\", \"February\", \"March\")\n",
    "combined_tuple = months + colors\n",
    "print(combined_tuple)\n"
   ]
  }
 ],
 "metadata": {
  "kernelspec": {
   "display_name": "Python 3",
   "language": "python",
   "name": "python3"
  },
  "language_info": {
   "codemirror_mode": {
    "name": "ipython",
    "version": 3
   },
   "file_extension": ".py",
   "mimetype": "text/x-python",
   "name": "python",
   "nbconvert_exporter": "python",
   "pygments_lexer": "ipython3",
   "version": "3.11.4"
  }
 },
 "nbformat": 4,
 "nbformat_minor": 2
}
