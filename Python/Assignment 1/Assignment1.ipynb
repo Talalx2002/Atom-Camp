{
 "cells": [
  {
   "cell_type": "code",
   "execution_count": 1,
   "metadata": {},
   "outputs": [
    {
     "name": "stdout",
     "output_type": "stream",
     "text": [
      "46\n",
      "Talal smith\n",
      "False\n"
     ]
    }
   ],
   "source": [
    "#Task 1\n",
    "\n",
    "a= 21   \n",
    "name = 'Talal'\n",
    "student = True  \n",
    "\n",
    "print(a+25)  \n",
    "print(name + \" \" + \"smith\")\n",
    "print(not student)"
   ]
  },
  {
   "cell_type": "code",
   "execution_count": 4,
   "metadata": {},
   "outputs": [
    {
     "name": "stdout",
     "output_type": "stream",
     "text": [
      "41\n",
      "True\n",
      "Python is a versatile programming language\n",
      "['Python', 'is', 'a', 'powerful', 'programming', 'language']\n"
     ]
    }
   ],
   "source": [
    "#Task 2\n",
    "sentence = \"Python is a powerful programming language\"\n",
    "print(len(sentence))\n",
    "print(\"Python\" in sentence)\n",
    "print(sentence.replace(\"powerful\", \"versatile\"))\n",
    "print(sentence.split(\" \"))"
   ]
  },
  {
   "cell_type": "code",
   "execution_count": 6,
   "metadata": {},
   "outputs": [
    {
     "name": "stdout",
     "output_type": "stream",
     "text": [
      "Area of triangle: 17.875\n",
      "86.0\n",
      "Area of Circle: 78.53975\n"
     ]
    }
   ],
   "source": [
    "width , height = 5.5 , 3.25\n",
    "area = width * height\n",
    "print(\"Area of triangle: \" + str(area))\n",
    "\n",
    "temperature_in_celsius = 30\n",
    "temperature_in_Fahrenheit = (temperature_in_celsius * 9/5) + 32\n",
    "print(str(temperature_in_Fahrenheit))\n",
    "\n",
    "radius = 5\n",
    "area = 3.14159 * radius**2\n",
    "print(\"Area of Circle: \" + str(area))"
   ]
  }
 ],
 "metadata": {
  "kernelspec": {
   "display_name": "Python 3",
   "language": "python",
   "name": "python3"
  },
  "language_info": {
   "codemirror_mode": {
    "name": "ipython",
    "version": 3
   },
   "file_extension": ".py",
   "mimetype": "text/x-python",
   "name": "python",
   "nbconvert_exporter": "python",
   "pygments_lexer": "ipython3",
   "version": "3.11.4"
  }
 },
 "nbformat": 4,
 "nbformat_minor": 2
}
